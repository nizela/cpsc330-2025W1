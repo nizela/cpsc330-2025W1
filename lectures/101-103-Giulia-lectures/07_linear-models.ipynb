{
 "cells": [
  {
   "cell_type": "markdown",
   "metadata": {
    "slideshow": {
     "slide_type": "slide"
    }
   },
   "source": [
    "![](../img/330-banner.png)"
   ]
  },
  {
   "cell_type": "markdown",
   "metadata": {
    "slideshow": {
     "slide_type": "-"
    }
   },
   "source": [
    "# Lecture 7: Linear Models\n",
    "\n",
    "\n",
    "UBC 2024-25"
   ]
  },
  {
   "cell_type": "markdown",
   "metadata": {},
   "source": [
    "## Imports, Announcements, and LO"
   ]
  },
  {
   "cell_type": "markdown",
   "metadata": {
    "slideshow": {
     "slide_type": "skip"
    }
   },
   "source": [
    "### Imports"
   ]
  },
  {
   "cell_type": "code",
   "execution_count": 1,
   "metadata": {
    "slideshow": {
     "slide_type": "skip"
    }
   },
   "outputs": [],
   "source": [
    "import os\n",
    "import sys\n",
    "import time\n",
    "\n",
    "sys.path.append(os.path.join(os.path.abspath(\"..\"), \"code\"))\n",
    "\n",
    "import IPython\n",
    "import matplotlib.pyplot as plt\n",
    "import mglearn\n",
    "import numpy as np\n",
    "import pandas as pd\n",
    "from IPython.display import HTML, display\n",
    "from sklearn.model_selection import cross_val_score, cross_validate, train_test_split\n",
    "from plotting_functions import *\n",
    "from sklearn.dummy import DummyClassifier\n",
    "from sklearn.feature_extraction.text import CountVectorizer, TfidfVectorizer\n",
    "from sklearn.impute import SimpleImputer\n",
    "from sklearn.model_selection import cross_val_score, cross_validate, train_test_split\n",
    "from sklearn.neighbors import KNeighborsClassifier, KNeighborsRegressor\n",
    "from sklearn.pipeline import Pipeline, make_pipeline\n",
    "from sklearn.preprocessing import OneHotEncoder, StandardScaler\n",
    "from sklearn.svm import SVC\n",
    "from sklearn.tree import DecisionTreeClassifier\n",
    "from utils import *\n",
    "\n",
    "%matplotlib inline\n",
    "pd.set_option(\"display.max_colwidth\", 200)\n",
    "DATA_DIR = \"../data/\""
   ]
  },
  {
   "cell_type": "markdown",
   "metadata": {
    "slideshow": {
     "slide_type": "skip"
    }
   },
   "source": [
    "## Learning outcomes\n",
    "\n",
    "From this lecture, students are expected to be able to: \n",
    "\n",
    "- Explain the general intuition behind linear models;\n",
    "- Explain how `predict` works for linear regression;\n",
    "- Use `scikit-learn`'s `Ridge` model; \n",
    "- Demonstrate how the `alpha` hyperparameter of `Ridge` is related to the fundamental tradeoff; \n",
    "- Explain the difference between linear regression and logistic regression;   \n",
    "- Use `scikit-learn`'s `LogisticRegression` model and `predict_proba` to get probability scores\n",
    "- Explain the advantages of getting probability scores instead of hard predictions during classification; \n",
    "- Broadly describe linear SVMs \n",
    "- Explain how can you interpret model predictions using coefficients learned by a linear model; \n",
    "- Explain the advantages and limitations of linear classifiers. "
   ]
  },
  {
   "cell_type": "markdown",
   "metadata": {
    "slideshow": {
     "slide_type": "skip"
    }
   },
   "source": [
    "<br><br>"
   ]
  },
  {
   "cell_type": "markdown",
   "metadata": {
    "slideshow": {
     "slide_type": "slide"
    }
   },
   "source": [
    "## Linear models [[video](https://youtu.be/HXd1U2q4VFA)]"
   ]
  },
  {
   "cell_type": "markdown",
   "metadata": {
    "slideshow": {
     "slide_type": "slide"
    }
   },
   "source": [
    "**Linear models** is a fundamental and widely used class of models. They are called **linear** because they make a prediction using a **linear function** of the input features.  \n",
    "\n",
    "We will talk about three linear models: \n",
    "- Linear regression \n",
    "- Logistic regression\n",
    "- Linear SVM (brief mention)"
   ]
  },
  {
   "cell_type": "markdown",
   "metadata": {
    "slideshow": {
     "slide_type": "slide"
    }
   },
   "source": [
    "### Linear regression \n",
    "\n",
    "- A very popular statistical model and has a long history.  \n",
    "- Imagine a hypothetical regression problem of predicting weight of a snake given its length. "
   ]
  },
  {
   "cell_type": "code",
   "execution_count": 2,
   "metadata": {
    "slideshow": {
     "slide_type": "slide"
    }
   },
   "outputs": [
    {
     "data": {
      "text/html": [
       "<div>\n",
       "<style scoped>\n",
       "    .dataframe tbody tr th:only-of-type {\n",
       "        vertical-align: middle;\n",
       "    }\n",
       "\n",
       "    .dataframe tbody tr th {\n",
       "        vertical-align: top;\n",
       "    }\n",
       "\n",
       "    .dataframe thead th {\n",
       "        text-align: right;\n",
       "    }\n",
       "</style>\n",
       "<table border=\"1\" class=\"dataframe\">\n",
       "  <thead>\n",
       "    <tr style=\"text-align: right;\">\n",
       "      <th></th>\n",
       "      <th>length</th>\n",
       "      <th>weight</th>\n",
       "    </tr>\n",
       "  </thead>\n",
       "  <tbody>\n",
       "    <tr>\n",
       "      <th>73</th>\n",
       "      <td>1.489130</td>\n",
       "      <td>10.507995</td>\n",
       "    </tr>\n",
       "    <tr>\n",
       "      <th>53</th>\n",
       "      <td>1.073233</td>\n",
       "      <td>7.658047</td>\n",
       "    </tr>\n",
       "    <tr>\n",
       "      <th>80</th>\n",
       "      <td>1.622709</td>\n",
       "      <td>9.748797</td>\n",
       "    </tr>\n",
       "    <tr>\n",
       "      <th>49</th>\n",
       "      <td>0.984653</td>\n",
       "      <td>9.731572</td>\n",
       "    </tr>\n",
       "    <tr>\n",
       "      <th>23</th>\n",
       "      <td>0.484937</td>\n",
       "      <td>3.016555</td>\n",
       "    </tr>\n",
       "  </tbody>\n",
       "</table>\n",
       "</div>"
      ],
      "text/plain": [
       "      length     weight\n",
       "73  1.489130  10.507995\n",
       "53  1.073233   7.658047\n",
       "80  1.622709   9.748797\n",
       "49  0.984653   9.731572\n",
       "23  0.484937   3.016555"
      ]
     },
     "execution_count": 2,
     "metadata": {},
     "output_type": "execute_result"
    }
   ],
   "source": [
    "np.random.seed(7)\n",
    "n = 100\n",
    "X_1 = np.linspace(0, 2, n) + np.random.randn(n) * 0.01\n",
    "X = pd.DataFrame(X_1[:, None], columns=[\"length\"])\n",
    "\n",
    "y = abs(np.random.randn(n, 1)) * 3 + X_1[:, None] * 5 + 0.2\n",
    "y = pd.DataFrame(y, columns=[\"weight\"])\n",
    "snakes_df = pd.concat([X, y], axis=1)\n",
    "train_df, test_df = train_test_split(snakes_df, test_size=0.2, random_state=77)\n",
    "\n",
    "X_train = train_df[[\"length\"]].values\n",
    "y_train = train_df[\"weight\"].values\n",
    "X_test = test_df[[\"length\"]].values\n",
    "y_test = test_df[\"weight\"].values\n",
    "train_df.head()"
   ]
  },
  {
   "cell_type": "markdown",
   "metadata": {
    "slideshow": {
     "slide_type": "slide"
    }
   },
   "source": [
    "Let's visualize the hypothetical snake data. "
   ]
  },
  {
   "cell_type": "code",
   "execution_count": 3,
   "metadata": {},
   "outputs": [
    {
     "data": {
      "image/png": "[encoded data removed]",
      "text/plain": [
       "<Figure size 640x480 with 1 Axes>"
      ]
     },
     "metadata": {},
     "output_type": "display_data"
    }
   ],
   "source": [
    "plt.plot(X_train, y_train, \".\", markersize=10)\n",
    "plt.xlabel(\"length\")\n",
    "plt.ylabel(\"weight (target)\");"
   ]
  },
  {
   "cell_type": "markdown",
   "metadata": {
    "slideshow": {
     "slide_type": "slide"
    }
   },
   "source": [
    "Let's plot a linear regression model on this dataset. "
   ]
  },
  {
   "cell_type": "code",
   "execution_count": 4,
   "metadata": {},
   "outputs": [],
   "source": [
    "grid = np.linspace(min(X_train)[0], max(X_train)[0], 1000)\n",
    "grid = grid.reshape(-1, 1)"
   ]
  },
  {
   "cell_type": "code",
   "execution_count": 5,
   "metadata": {
    "slideshow": {
     "slide_type": "slide"
    }
   },
   "outputs": [
    {
     "data": {
      "image/png": "[encoded data removed]",
      "text/plain": [
       "<Figure size 640x480 with 1 Axes>"
      ]
     },
     "metadata": {},
     "output_type": "display_data"
    }
   ],
   "source": [
    "from sklearn.linear_model import Ridge\n",
    "\n",
    "r = Ridge()\n",
    "r.fit(X_train, y_train)\n",
    "plt.plot(X_train, y_train, \".\", markersize=10)\n",
    "plt.plot(grid, r.predict(grid))\n",
    "plt.grid(True)\n",
    "plt.xlabel(\"length\")\n",
    "plt.ylabel(\"weight (target)\");"
   ]
  },
  {
   "cell_type": "markdown",
   "metadata": {},
   "source": [
    "**The orange line is the learned linear model.**"
   ]
  },
  {
   "cell_type": "markdown",
   "metadata": {
    "slideshow": {
     "slide_type": "slide"
    }
   },
   "source": [
    "### Prediction of linear regression\n",
    "\n",
    "- Given a snake length, we can use the model above to predict the target (i.e., the weight of the snake). \n",
    "- The prediction will be the corresponding weight on the orange line. "
   ]
  },
  {
   "cell_type": "code",
   "execution_count": 6,
   "metadata": {},
   "outputs": [
    {
     "data": {
      "text/plain": [
       "array([6.20683258])"
      ]
     },
     "execution_count": 6,
     "metadata": {},
     "output_type": "execute_result"
    }
   ],
   "source": [
    "snake_length = 0.75\n",
    "r.predict([[snake_length]])"
   ]
  },
  {
   "cell_type": "markdown",
   "metadata": {
    "slideshow": {
     "slide_type": "slide"
    }
   },
   "source": [
    "#### What are we exactly learning? \n",
    "\n",
    "- The model above is a line, which can be represented with a slope (i.e., coefficient or weight) and an intercept. \n",
    "- For the above model, we can access the slope (i.e., coefficient or weight) and the intercept using `coef_` and `intercept_`, respectively. "
   ]
  },
  {
   "cell_type": "code",
   "execution_count": 7,
   "metadata": {},
   "outputs": [
    {
     "data": {
      "text/plain": [
       "array([5.26370005])"
      ]
     },
     "execution_count": 7,
     "metadata": {},
     "output_type": "execute_result"
    }
   ],
   "source": [
    "r.coef_  # r is our linear regression object"
   ]
  },
  {
   "cell_type": "code",
   "execution_count": 8,
   "metadata": {},
   "outputs": [
    {
     "data": {
      "text/plain": [
       "2.2590575478171857"
      ]
     },
     "execution_count": 8,
     "metadata": {},
     "output_type": "execute_result"
    }
   ],
   "source": [
    "r.intercept_  # r is our linear regression object"
   ]
  },
  {
   "cell_type": "markdown",
   "metadata": {
    "slideshow": {
     "slide_type": "slide"
    }
   },
   "source": [
    "### How are we making predictions? \n",
    "- Given a feature value $x_1$ and learned coefficient $w_1$ and intercept $b$, we can get the prediction $\\hat{y}$ with the following formula:\n",
    "$$\\hat{y} = w_1x_1 + b$$"
   ]
  },
  {
   "cell_type": "code",
   "execution_count": 9,
   "metadata": {},
   "outputs": [
    {
     "data": {
      "text/plain": [
       "array([6.20683258])"
      ]
     },
     "execution_count": 9,
     "metadata": {},
     "output_type": "execute_result"
    }
   ],
   "source": [
    "prediction = snake_length * r.coef_ + r.intercept_\n",
    "prediction"
   ]
  },
  {
   "cell_type": "code",
   "execution_count": 10,
   "metadata": {},
   "outputs": [
    {
     "data": {
      "text/plain": [
       "array([6.20683258])"
      ]
     },
     "execution_count": 10,
     "metadata": {},
     "output_type": "execute_result"
    }
   ],
   "source": [
    "r.predict([[snake_length]])"
   ]
  },
  {
   "cell_type": "markdown",
   "metadata": {},
   "source": [
    "Great! Now we exactly know how the model is making the prediction. "
   ]
  },
  {
   "cell_type": "markdown",
   "metadata": {
    "slideshow": {
     "slide_type": "slide"
    }
   },
   "source": [
    "### Generalizing to more features\n",
    "For more features, the model is a higher dimensional hyperplane and the general prediction formula looks as follows: \n",
    "\n",
    "$\\hat{y} =$ <font color=\"red\">$w_1$</font> <font color=\"blue\">$x_1$ </font> $+ \\dots +$ <font color=\"red\">$w_d$</font> <font color=\"blue\">$x_d$</font> + <font  color=\"green\"> $b$</font>\n",
    "\n",
    "where, \n",
    "- <font  color=\"blue\"> ($x_1, \\dots, x_d$) are input features </font>\n",
    "- <font  color=\"red\"> ($w_1, \\dots, w_d$) are coefficients or weights </font> (learned from the data)\n",
    "- <font  color=\"green\"> $b$ is the bias which can be used to offset your hyperplane </font> (learned from the data)"
   ]
  },
  {
   "cell_type": "markdown",
   "metadata": {
    "slideshow": {
     "slide_type": "slide"
    },
    "tags": []
   },
   "source": [
    "### Example \n",
    "\n",
    "- Suppose these are the coefficients learned by a linear regression model on a hypothetical housing price prediction dataset. \n",
    "\n",
    "| Feature | Learned coefficient |\n",
    "|--------------------|---------------------:|\n",
    "| Bedrooms | 0.20 |\n",
    "| Bathrooms| 0.11 |\n",
    "| Square Footage | 0.002 |\n",
    "| Age | -0.02 |\n",
    "\n",
    "- Now given a new example, the target will be predicted as follows: \n",
    "| Bedrooms | Bathrooms | Square Footage | Age |\n",
    "|--------------------|---------------------|----------------|-----| \n",
    "| 3                  | 2                   | 1875           | 66  |"
   ]
  },
  {
   "cell_type": "markdown",
   "metadata": {},
   "source": [
    "$$\\hat{y} = w_1x_1 + w_2x_2 + w_3x_3 + w_4x_4 + b$$\n",
    "\n",
    "$$\\text{predicted price}=  0.20 \\times 3 + 0.11 \\times 2 + 0.002 \\times 1875 + (-0.02) \\times 66 + b$$"
   ]
  },
  {
   "cell_type": "markdown",
   "metadata": {
    "slideshow": {
     "slide_type": "skip"
    }
   },
   "source": [
    "When we call `fit`, a coefficient or weight is learned for each feature which tells us the role of that feature in prediction. These coefficients are learned from the training data.  "
   ]
  },
  {
   "cell_type": "markdown",
   "metadata": {
    "slideshow": {
     "slide_type": "skip"
    }
   },
   "source": [
    "```{important}\n",
    "In linear models for regression, the model is a line for a single feature, a plane for two features, and a hyperplane for higher dimensions. We are not yet ready to discuss how does linear regression learn these coefficients and intercept.\n",
    "```"
   ]
  },
  {
   "cell_type": "markdown",
   "metadata": {
    "slideshow": {
     "slide_type": "slide"
    }
   },
   "source": [
    "### `Ridge`\n",
    "\n",
    "- `scikit-learn` has a model called `LinearRegression` for linear regression. \n",
    "- But if we use this \"vanilla\" version of linear regression, it may result in large coefficients and unexpected results. \n",
    "- So instead of using `LinearRegression`, we will always use another linear model called `Ridge`, which is a linear regression model with a complexity hyperparameter `alpha`."
   ]
  },
  {
   "cell_type": "code",
   "execution_count": 11,
   "metadata": {},
   "outputs": [],
   "source": [
    "from sklearn.linear_model import LinearRegression  # DO NOT USE IT IN THIS COURSE\n",
    "from sklearn.linear_model import Ridge  # USE THIS INSTEAD"
   ]
  },
  {
   "cell_type": "markdown",
   "metadata": {
    "slideshow": {
     "slide_type": "slide"
    }
   },
   "source": [
    "#### Data"
   ]
  },
  {
   "cell_type": "markdown",
   "metadata": {},
   "source": [
    "Let's use `sklearn`'s built in regression dataset, the Boston Housing dataset. The task associated with this dataset is to predict the median value of homes in several Boston neighborhoods in the 1970s, using information such as crime rate in the neighbourhood, average number of rooms, proximity to the Charles River, highway accessibility, and so on."
   ]
  },
  {
   "cell_type": "code",
   "execution_count": 12,
   "metadata": {
    "slideshow": {
     "slide_type": "slide"
    }
   },
   "outputs": [
    {
     "data": {
      "text/html": [
       "<div>\n",
       "<style scoped>\n",
       "    .dataframe tbody tr th:only-of-type {\n",
       "        vertical-align: middle;\n",
       "    }\n",
       "\n",
       "    .dataframe tbody tr th {\n",
       "        vertical-align: top;\n",
       "    }\n",
       "\n",
       "    .dataframe thead th {\n",
       "        text-align: right;\n",
       "    }\n",
       "</style>\n",
       "<table border=\"1\" class=\"dataframe\">\n",
       "  <thead>\n",
       "    <tr style=\"text-align: right;\">\n",
       "      <th></th>\n",
       "      <th>MedInc</th>\n",
       "      <th>HouseAge</th>\n",
       "      <th>AveRooms</th>\n",
       "      <th>AveBedrms</th>\n",
       "      <th>Population</th>\n",
       "      <th>AveOccup</th>\n",
       "      <th>Latitude</th>\n",
       "      <th>Longitude</th>\n",
       "    </tr>\n",
       "  </thead>\n",
       "  <tbody>\n",
       "    <tr>\n",
       "      <th>0</th>\n",
       "      <td>2.0000</td>\n",
       "      <td>52.0</td>\n",
       "      <td>5.303030</td>\n",
       "      <td>1.082251</td>\n",
       "      <td>725.0</td>\n",
       "      <td>3.138528</td>\n",
       "      <td>38.03</td>\n",
       "      <td>-121.88</td>\n",
       "    </tr>\n",
       "    <tr>\n",
       "      <th>1</th>\n",
       "      <td>2.0000</td>\n",
       "      <td>52.0</td>\n",
       "      <td>5.506410</td>\n",
       "      <td>1.134615</td>\n",
       "      <td>1026.0</td>\n",
       "      <td>3.288462</td>\n",
       "      <td>34.00</td>\n",
       "      <td>-118.30</td>\n",
       "    </tr>\n",
       "    <tr>\n",
       "      <th>2</th>\n",
       "      <td>4.0474</td>\n",
       "      <td>30.0</td>\n",
       "      <td>5.419355</td>\n",
       "      <td>1.006452</td>\n",
       "      <td>858.0</td>\n",
       "      <td>2.767742</td>\n",
       "      <td>37.31</td>\n",
       "      <td>-121.94</td>\n",
       "    </tr>\n",
       "    <tr>\n",
       "      <th>3</th>\n",
       "      <td>3.2794</td>\n",
       "      <td>7.0</td>\n",
       "      <td>5.546473</td>\n",
       "      <td>1.044166</td>\n",
       "      <td>5146.0</td>\n",
       "      <td>3.392221</td>\n",
       "      <td>34.46</td>\n",
       "      <td>-117.20</td>\n",
       "    </tr>\n",
       "    <tr>\n",
       "      <th>4</th>\n",
       "      <td>2.5551</td>\n",
       "      <td>35.0</td>\n",
       "      <td>4.018487</td>\n",
       "      <td>1.016807</td>\n",
       "      <td>1886.0</td>\n",
       "      <td>3.169748</td>\n",
       "      <td>37.35</td>\n",
       "      <td>-121.86</td>\n",
       "    </tr>\n",
       "    <tr>\n",
       "      <th>...</th>\n",
       "      <td>...</td>\n",
       "      <td>...</td>\n",
       "      <td>...</td>\n",
       "      <td>...</td>\n",
       "      <td>...</td>\n",
       "      <td>...</td>\n",
       "      <td>...</td>\n",
       "      <td>...</td>\n",
       "    </tr>\n",
       "    <tr>\n",
       "      <th>16507</th>\n",
       "      <td>3.0185</td>\n",
       "      <td>17.0</td>\n",
       "      <td>4.205479</td>\n",
       "      <td>0.863014</td>\n",
       "      <td>434.0</td>\n",
       "      <td>1.981735</td>\n",
       "      <td>34.61</td>\n",
       "      <td>-120.16</td>\n",
       "    </tr>\n",
       "    <tr>\n",
       "      <th>16508</th>\n",
       "      <td>12.6320</td>\n",
       "      <td>5.0</td>\n",
       "      <td>7.462963</td>\n",
       "      <td>0.888889</td>\n",
       "      <td>208.0</td>\n",
       "      <td>3.851852</td>\n",
       "      <td>34.44</td>\n",
       "      <td>-119.31</td>\n",
       "    </tr>\n",
       "    <tr>\n",
       "      <th>16509</th>\n",
       "      <td>3.9808</td>\n",
       "      <td>20.0</td>\n",
       "      <td>5.678689</td>\n",
       "      <td>1.006557</td>\n",
       "      <td>999.0</td>\n",
       "      <td>3.275410</td>\n",
       "      <td>38.28</td>\n",
       "      <td>-121.20</td>\n",
       "    </tr>\n",
       "    <tr>\n",
       "      <th>16510</th>\n",
       "      <td>5.8195</td>\n",
       "      <td>25.0</td>\n",
       "      <td>6.585513</td>\n",
       "      <td>0.961771</td>\n",
       "      <td>1645.0</td>\n",
       "      <td>3.309859</td>\n",
       "      <td>33.71</td>\n",
       "      <td>-117.97</td>\n",
       "    </tr>\n",
       "    <tr>\n",
       "      <th>16511</th>\n",
       "      <td>3.7315</td>\n",
       "      <td>20.0</td>\n",
       "      <td>7.368304</td>\n",
       "      <td>1.738839</td>\n",
       "      <td>1085.0</td>\n",
       "      <td>2.421875</td>\n",
       "      <td>37.58</td>\n",
       "      <td>-118.74</td>\n",
       "    </tr>\n",
       "  </tbody>\n",
       "</table>\n",
       "<p>16512 rows × 8 columns</p>\n",
       "</div>"
      ],
      "text/plain": [
       "        MedInc  HouseAge  AveRooms  AveBedrms  Population  AveOccup  Latitude  \\\n",
       "0       2.0000      52.0  5.303030   1.082251       725.0  3.138528     38.03   \n",
       "1       2.0000      52.0  5.506410   1.134615      1026.0  3.288462     34.00   \n",
       "2       4.0474      30.0  5.419355   1.006452       858.0  2.767742     37.31   \n",
       "3       3.2794       7.0  5.546473   1.044166      5146.0  3.392221     34.46   \n",
       "4       2.5551      35.0  4.018487   1.016807      1886.0  3.169748     37.35   \n",
       "...        ...       ...       ...        ...         ...       ...       ...   \n",
       "16507   3.0185      17.0  4.205479   0.863014       434.0  1.981735     34.61   \n",
       "16508  12.6320       5.0  7.462963   0.888889       208.0  3.851852     34.44   \n",
       "16509   3.9808      20.0  5.678689   1.006557       999.0  3.275410     38.28   \n",
       "16510   5.8195      25.0  6.585513   0.961771      1645.0  3.309859     33.71   \n",
       "16511   3.7315      20.0  7.368304   1.738839      1085.0  2.421875     37.58   \n",
       "\n",
       "       Longitude  \n",
       "0        -121.88  \n",
       "1        -118.30  \n",
       "2        -121.94  \n",
       "3        -117.20  \n",
       "4        -121.86  \n",
       "...          ...  \n",
       "16507    -120.16  \n",
       "16508    -119.31  \n",
       "16509    -121.20  \n",
       "16510    -117.97  \n",
       "16511    -118.74  \n",
       "\n",
       "[16512 rows x 8 columns]"
      ]
     },
     "execution_count": 12,
     "metadata": {},
     "output_type": "execute_result"
    }
   ],
   "source": [
    "from sklearn.datasets import fetch_california_housing\n",
    "\n",
    "\n",
    "california = fetch_california_housing()\n",
    "X_train, X_test, y_train, y_test = train_test_split(\n",
    "    california.data, california.target, test_size=0.2\n",
    ")\n",
    "pd.DataFrame(X_train, columns=california.feature_names)"
   ]
  },
  {
   "cell_type": "code",
   "execution_count": 13,
   "metadata": {
    "slideshow": {
     "slide_type": "slide"
    }
   },
   "outputs": [
    {
     "name": "stdout",
     "output_type": "stream",
     "text": [
      ".. _california_housing_dataset:\n",
      "\n",
      "California Housing dataset\n",
      "--------------------------\n",
      "\n",
      "**Data Set Characteristics:**\n",
      "\n",
      ":Number of Instances: 20640\n",
      "\n",
      ":Number of Attributes: 8 numeric, predictive attributes and the target\n",
      "\n",
      ":Attribute Information:\n",
      "    - MedInc        median income in block group\n",
      "    - HouseAge      median house age in block group\n",
      "    - AveRooms      average number of rooms per household\n",
      "    - AveBedrms     average number of bedrooms per household\n",
      "    - Population    block group population\n",
      "    - AveOccup      average number of household members\n",
      "    - Latitude      block group latitude\n",
      "    - Longitude     block group longitude\n",
      "\n",
      ":Missing Attribute Values: None\n",
      "\n",
      "This dataset was obtained from the StatLib repository.\n",
      "https://www.dcc.fc.up.pt/~ltorgo/Regression/cal_housing.html\n",
      "\n",
      "The target variable is the median house value for California districts,\n",
      "expressed in hundreds of thousands of dollars ($100,000).\n",
      "\n",
      "This dataset was derived from the 1990 U.S. census, using one row per census\n",
      "block group. A block group is the smallest geographical unit for which the U.S.\n",
      "Census Bureau publishes sample data (a block group typically has a population\n",
      "of 600 to 3,000 people).\n",
      "\n",
      "A household is a group of people residing within a home. Since the average\n",
      "number of rooms and bedrooms in this dataset are provided per household, these\n",
      "columns may take surprisingly large values for block groups with few households\n",
      "and many empty houses, such as vacation resorts.\n",
      "\n",
      "It can be downloaded/loaded using the\n",
      ":func:`sklearn.datasets.fetch_california_housing` function.\n",
      "\n",
      ".. rubric:: References\n",
      "\n",
      "- Pace, R. Kelley and Ronald Barry, Sparse Spatial Autoregressions,\n",
      "  Statistics and Probability Letters, 33 (1997) 291-297\n",
      "\n"
     ]
    }
   ],
   "source": [
    "print(california.DESCR)"
   ]
  },
  {
   "cell_type": "markdown",
   "metadata": {
    "slideshow": {
     "slide_type": "slide"
    }
   },
   "source": [
    "#### `Ridge` on the California housing dataset"
   ]
  },
  {
   "cell_type": "code",
   "execution_count": 14,
   "metadata": {},
   "outputs": [
    {
     "data": {
      "text/html": [
       "<div>\n",
       "<style scoped>\n",
       "    .dataframe tbody tr th:only-of-type {\n",
       "        vertical-align: middle;\n",
       "    }\n",
       "\n",
       "    .dataframe tbody tr th {\n",
       "        vertical-align: top;\n",
       "    }\n",
       "\n",
       "    .dataframe thead th {\n",
       "        text-align: right;\n",
       "    }\n",
       "</style>\n",
       "<table border=\"1\" class=\"dataframe\">\n",
       "  <thead>\n",
       "    <tr style=\"text-align: right;\">\n",
       "      <th></th>\n",
       "      <th>fit_time</th>\n",
       "      <th>score_time</th>\n",
       "      <th>test_score</th>\n",
       "      <th>train_score</th>\n",
       "    </tr>\n",
       "  </thead>\n",
       "  <tbody>\n",
       "    <tr>\n",
       "      <th>0</th>\n",
       "      <td>0.003165</td>\n",
       "      <td>0.000590</td>\n",
       "      <td>0.599492</td>\n",
       "      <td>0.608050</td>\n",
       "    </tr>\n",
       "    <tr>\n",
       "      <th>1</th>\n",
       "      <td>0.002137</td>\n",
       "      <td>0.000434</td>\n",
       "      <td>0.613507</td>\n",
       "      <td>0.604619</td>\n",
       "    </tr>\n",
       "    <tr>\n",
       "      <th>2</th>\n",
       "      <td>0.002292</td>\n",
       "      <td>0.003652</td>\n",
       "      <td>0.598100</td>\n",
       "      <td>0.608468</td>\n",
       "    </tr>\n",
       "    <tr>\n",
       "      <th>3</th>\n",
       "      <td>0.004665</td>\n",
       "      <td>0.001283</td>\n",
       "      <td>0.612621</td>\n",
       "      <td>0.604797</td>\n",
       "    </tr>\n",
       "    <tr>\n",
       "      <th>4</th>\n",
       "      <td>0.007074</td>\n",
       "      <td>0.002477</td>\n",
       "      <td>0.601790</td>\n",
       "      <td>0.606902</td>\n",
       "    </tr>\n",
       "  </tbody>\n",
       "</table>\n",
       "</div>"
      ],
      "text/plain": [
       "   fit_time  score_time  test_score  train_score\n",
       "0  0.003165    0.000590    0.599492     0.608050\n",
       "1  0.002137    0.000434    0.613507     0.604619\n",
       "2  0.002292    0.003652    0.598100     0.608468\n",
       "3  0.004665    0.001283    0.612621     0.604797\n",
       "4  0.007074    0.002477    0.601790     0.606902"
      ]
     },
     "execution_count": 14,
     "metadata": {},
     "output_type": "execute_result"
    }
   ],
   "source": [
    "pipe = make_pipeline(StandardScaler(), Ridge())\n",
    "scores = cross_validate(pipe, X_train, y_train, return_train_score=True)\n",
    "pd.DataFrame(scores)"
   ]
  },
  {
   "cell_type": "markdown",
   "metadata": {
    "slideshow": {
     "slide_type": "slide"
    }
   },
   "source": [
    "#### Hyperparameter `alpha` of `Ridge`"
   ]
  },
  {
   "cell_type": "markdown",
   "metadata": {},
   "source": [
    "- Ridge has hyperparameters just like the rest of the models we learned.\n",
    "- The alpha hyperparameter is what makes `Ridge` different from vanilla `LinearRegression`. \n",
    "- Similar to the other hyperparameters that we saw, `alpha` controls the fundamental tradeoff. "
   ]
  },
  {
   "cell_type": "markdown",
   "metadata": {
    "slideshow": {
     "slide_type": "skip"
    }
   },
   "source": [
    "```{note}\n",
    "If we set alpha=0 that is the same as using LinearRegression.\n",
    "```"
   ]
  },
  {
   "cell_type": "markdown",
   "metadata": {
    "slideshow": {
     "slide_type": "slide"
    }
   },
   "source": [
    "Let's examine the effect of `alpha` on the fundamental tradeoff. "
   ]
  },
  {
   "cell_type": "code",
   "execution_count": 15,
   "metadata": {},
   "outputs": [],
   "source": [
    "scores_dict = {\n",
    "    \"alpha\": 10.0 ** np.arange(-3, 6, 1),\n",
    "    \"mean_train_scores\": list(),\n",
    "    \"mean_cv_scores\": list(),\n",
    "}\n",
    "for alpha in scores_dict[\"alpha\"]:\n",
    "    pipe_ridge = make_pipeline(StandardScaler(), Ridge(alpha=alpha))\n",
    "    scores = cross_validate(pipe_ridge, X_train, y_train, return_train_score=True)\n",
    "    scores_dict[\"mean_train_scores\"].append(scores[\"train_score\"].mean())\n",
    "    scores_dict[\"mean_cv_scores\"].append(scores[\"test_score\"].mean())\n",
    "\n",
    "results_df = pd.DataFrame(scores_dict)"
   ]
  },
  {
   "cell_type": "code",
   "execution_count": 16,
   "metadata": {
    "slideshow": {
     "slide_type": "slide"
    }
   },
   "outputs": [
    {
     "data": {
      "text/html": [
       "<div>\n",
       "<style scoped>\n",
       "    .dataframe tbody tr th:only-of-type {\n",
       "        vertical-align: middle;\n",
       "    }\n",
       "\n",
       "    .dataframe tbody tr th {\n",
       "        vertical-align: top;\n",
       "    }\n",
       "\n",
       "    .dataframe thead th {\n",
       "        text-align: right;\n",
       "    }\n",
       "</style>\n",
       "<table border=\"1\" class=\"dataframe\">\n",
       "  <thead>\n",
       "    <tr style=\"text-align: right;\">\n",
       "      <th></th>\n",
       "      <th>alpha</th>\n",
       "      <th>mean_train_scores</th>\n",
       "      <th>mean_cv_scores</th>\n",
       "    </tr>\n",
       "  </thead>\n",
       "  <tbody>\n",
       "    <tr>\n",
       "      <th>0</th>\n",
       "      <td>0.001</td>\n",
       "      <td>0.606567</td>\n",
       "      <td>0.605101</td>\n",
       "    </tr>\n",
       "    <tr>\n",
       "      <th>1</th>\n",
       "      <td>0.010</td>\n",
       "      <td>0.606567</td>\n",
       "      <td>0.605101</td>\n",
       "    </tr>\n",
       "    <tr>\n",
       "      <th>2</th>\n",
       "      <td>0.100</td>\n",
       "      <td>0.606567</td>\n",
       "      <td>0.605101</td>\n",
       "    </tr>\n",
       "    <tr>\n",
       "      <th>3</th>\n",
       "      <td>1.000</td>\n",
       "      <td>0.606567</td>\n",
       "      <td>0.605102</td>\n",
       "    </tr>\n",
       "    <tr>\n",
       "      <th>4</th>\n",
       "      <td>10.000</td>\n",
       "      <td>0.606557</td>\n",
       "      <td>0.605100</td>\n",
       "    </tr>\n",
       "    <tr>\n",
       "      <th>5</th>\n",
       "      <td>100.000</td>\n",
       "      <td>0.605696</td>\n",
       "      <td>0.604320</td>\n",
       "    </tr>\n",
       "    <tr>\n",
       "      <th>6</th>\n",
       "      <td>1000.000</td>\n",
       "      <td>0.579432</td>\n",
       "      <td>0.578523</td>\n",
       "    </tr>\n",
       "    <tr>\n",
       "      <th>7</th>\n",
       "      <td>10000.000</td>\n",
       "      <td>0.431137</td>\n",
       "      <td>0.430868</td>\n",
       "    </tr>\n",
       "    <tr>\n",
       "      <th>8</th>\n",
       "      <td>100000.000</td>\n",
       "      <td>0.116167</td>\n",
       "      <td>0.115956</td>\n",
       "    </tr>\n",
       "  </tbody>\n",
       "</table>\n",
       "</div>"
      ],
      "text/plain": [
       "        alpha  mean_train_scores  mean_cv_scores\n",
       "0       0.001           0.606567        0.605101\n",
       "1       0.010           0.606567        0.605101\n",
       "2       0.100           0.606567        0.605101\n",
       "3       1.000           0.606567        0.605102\n",
       "4      10.000           0.606557        0.605100\n",
       "5     100.000           0.605696        0.604320\n",
       "6    1000.000           0.579432        0.578523\n",
       "7   10000.000           0.431137        0.430868\n",
       "8  100000.000           0.116167        0.115956"
      ]
     },
     "execution_count": 16,
     "metadata": {},
     "output_type": "execute_result"
    }
   ],
   "source": [
    "results_df"
   ]
  },
  {
   "cell_type": "markdown",
   "metadata": {
    "slideshow": {
     "slide_type": "-"
    }
   },
   "source": [
    "Here we do not really see overfitting but in general, \n",
    "- larger `alpha` $\\rightarrow$ likely to underfit\n",
    "- smaller `alpha` $\\rightarrow$ likely to overfit"
   ]
  },
  {
   "cell_type": "markdown",
   "metadata": {
    "slideshow": {
     "slide_type": "slide"
    }
   },
   "source": [
    "#### Coefficients and intercept\n",
    "\n",
    "The model learns \n",
    "- coefficients associated with each feature\n",
    "- the intercept or bias"
   ]
  },
  {
   "cell_type": "markdown",
   "metadata": {},
   "source": [
    "Let's examine the coefficients learned by the model. "
   ]
  },
  {
   "cell_type": "code",
   "execution_count": 17,
   "metadata": {},
   "outputs": [],
   "source": [
    "pipe_ridge = make_pipeline(StandardScaler(), Ridge(alpha=1.0))\n",
    "pipe_ridge.fit(X_train, y_train)\n",
    "coeffs = pipe_ridge.named_steps[\"ridge\"].coef_"
   ]
  },
  {
   "cell_type": "code",
   "execution_count": 18,
   "metadata": {
    "slideshow": {
     "slide_type": "slide"
    }
   },
   "outputs": [
    {
     "data": {
      "text/html": [
       "<div>\n",
       "<style scoped>\n",
       "    .dataframe tbody tr th:only-of-type {\n",
       "        vertical-align: middle;\n",
       "    }\n",
       "\n",
       "    .dataframe tbody tr th {\n",
       "        vertical-align: top;\n",
       "    }\n",
       "\n",
       "    .dataframe thead th {\n",
       "        text-align: right;\n",
       "    }\n",
       "</style>\n",
       "<table border=\"1\" class=\"dataframe\">\n",
       "  <thead>\n",
       "    <tr style=\"text-align: right;\">\n",
       "      <th></th>\n",
       "      <th>Coefficients</th>\n",
       "    </tr>\n",
       "  </thead>\n",
       "  <tbody>\n",
       "    <tr>\n",
       "      <th>MedInc</th>\n",
       "      <td>0.827039</td>\n",
       "    </tr>\n",
       "    <tr>\n",
       "      <th>HouseAge</th>\n",
       "      <td>0.117058</td>\n",
       "    </tr>\n",
       "    <tr>\n",
       "      <th>AveRooms</th>\n",
       "      <td>-0.265273</td>\n",
       "    </tr>\n",
       "    <tr>\n",
       "      <th>AveBedrms</th>\n",
       "      <td>0.307521</td>\n",
       "    </tr>\n",
       "    <tr>\n",
       "      <th>Population</th>\n",
       "      <td>-0.003194</td>\n",
       "    </tr>\n",
       "    <tr>\n",
       "      <th>AveOccup</th>\n",
       "      <td>-0.039498</td>\n",
       "    </tr>\n",
       "    <tr>\n",
       "      <th>Latitude</th>\n",
       "      <td>-0.895963</td>\n",
       "    </tr>\n",
       "    <tr>\n",
       "      <th>Longitude</th>\n",
       "      <td>-0.866110</td>\n",
       "    </tr>\n",
       "  </tbody>\n",
       "</table>\n",
       "</div>"
      ],
      "text/plain": [
       "            Coefficients\n",
       "MedInc          0.827039\n",
       "HouseAge        0.117058\n",
       "AveRooms       -0.265273\n",
       "AveBedrms       0.307521\n",
       "Population     -0.003194\n",
       "AveOccup       -0.039498\n",
       "Latitude       -0.895963\n",
       "Longitude      -0.866110"
      ]
     },
     "execution_count": 18,
     "metadata": {},
     "output_type": "execute_result"
    }
   ],
   "source": [
    "pd.DataFrame(data=coeffs, index=california.feature_names, columns=[\"Coefficients\"])"
   ]
  },
  {
   "cell_type": "markdown",
   "metadata": {
    "slideshow": {
     "slide_type": "slide"
    }
   },
   "source": [
    "- The model also learns an intercept (bias). \n",
    "- For each prediction, we are adding this amount irrespective of the feature values.  "
   ]
  },
  {
   "cell_type": "code",
   "execution_count": 19,
   "metadata": {},
   "outputs": [
    {
     "data": {
      "text/plain": [
       "2.0667579112160865"
      ]
     },
     "execution_count": 19,
     "metadata": {},
     "output_type": "execute_result"
    }
   ],
   "source": [
    "pipe_ridge.named_steps[\"ridge\"].intercept_"
   ]
  },
  {
   "cell_type": "markdown",
   "metadata": {},
   "source": [
    "Can we use this information to interpret model predictions? "
   ]
  },
  {
   "cell_type": "markdown",
   "metadata": {
    "slideshow": {
     "slide_type": "slide"
    }
   },
   "source": [
    "## ❓❓ Questions for you"
   ]
  },
  {
   "cell_type": "markdown",
   "metadata": {
    "slideshow": {
     "slide_type": "-"
    }
   },
   "source": [
    "### (iClicker) Exercise 7.1 \n",
    "\n",
    "**iClicker cloud join link: https://join.iclicker.com/RITY**\n",
    "\n",
    "**Select all of the following statements which are TRUE.**\n",
    "\n",
    "- (A) Increasing the hyperparameter `alpha` of `Ridge` is likely to decrease model complexity.\n",
    "- (B) `Ridge` can be used with datasets that have multiple features.\n",
    "- (C) With Ridge, we learn one coefficient per training example.\n",
    "- (D) If you train a linear regression model on a 2-dimensional problem (2 features), the model will learn 3 parameters: one for each feature and one for the bias term. "
   ]
  },
  {
   "cell_type": "markdown",
   "metadata": {
    "slideshow": {
     "slide_type": "skip"
    }
   },
   "source": [
    "<br><br><br><br>"
   ]
  },
  {
   "cell_type": "markdown",
   "metadata": {
    "slideshow": {
     "slide_type": "slide"
    }
   },
   "source": [
    "## Interpretation of coefficients "
   ]
  },
  {
   "cell_type": "markdown",
   "metadata": {
    "slideshow": {
     "slide_type": "slide"
    }
   },
   "source": [
    "- One of the main advantages of linear models is that they are relatively easy to interpret. \n",
    "- We have one coefficient per feature which kind of describes the role of the feature in the prediction according to the model. "
   ]
  },
  {
   "cell_type": "markdown",
   "metadata": {},
   "source": [
    "There are two pieces of information in the coefficients based on\n",
    "\n",
    "- Sign\n",
    "- Magnitude"
   ]
  },
  {
   "cell_type": "markdown",
   "metadata": {
    "slideshow": {
     "slide_type": "slide"
    }
   },
   "source": [
    "### Sign of the coefficients\n",
    "\n",
    "In the example below, for instance: \n",
    "- MedInc (median income) has a **positive coefficient**\n",
    "    - the prediction will be proportional to the feature value; as MedInc gets **bigger**, the median house value gets **bigger** \n",
    "- AveRooms (Average number of rooms) has a **negative coefficient**\n",
    "    - the prediction will be inversely proportional to the feature value; as AveRooms gets **bigger**, the median house value gets **smaller**"
   ]
  },
  {
   "cell_type": "code",
   "execution_count": 20,
   "metadata": {
    "slideshow": {
     "slide_type": "slide"
    }
   },
   "outputs": [
    {
     "data": {
      "text/html": [
       "<div>\n",
       "<style scoped>\n",
       "    .dataframe tbody tr th:only-of-type {\n",
       "        vertical-align: middle;\n",
       "    }\n",
       "\n",
       "    .dataframe tbody tr th {\n",
       "        vertical-align: top;\n",
       "    }\n",
       "\n",
       "    .dataframe thead th {\n",
       "        text-align: right;\n",
       "    }\n",
       "</style>\n",
       "<table border=\"1\" class=\"dataframe\">\n",
       "  <thead>\n",
       "    <tr style=\"text-align: right;\">\n",
       "      <th></th>\n",
       "      <th>Coefficients</th>\n",
       "    </tr>\n",
       "  </thead>\n",
       "  <tbody>\n",
       "    <tr>\n",
       "      <th>MedInc</th>\n",
       "      <td>0.827039</td>\n",
       "    </tr>\n",
       "    <tr>\n",
       "      <th>HouseAge</th>\n",
       "      <td>0.117058</td>\n",
       "    </tr>\n",
       "    <tr>\n",
       "      <th>AveRooms</th>\n",
       "      <td>-0.265273</td>\n",
       "    </tr>\n",
       "    <tr>\n",
       "      <th>AveBedrms</th>\n",
       "      <td>0.307521</td>\n",
       "    </tr>\n",
       "    <tr>\n",
       "      <th>Population</th>\n",
       "      <td>-0.003194</td>\n",
       "    </tr>\n",
       "    <tr>\n",
       "      <th>AveOccup</th>\n",
       "      <td>-0.039498</td>\n",
       "    </tr>\n",
       "    <tr>\n",
       "      <th>Latitude</th>\n",
       "      <td>-0.895963</td>\n",
       "    </tr>\n",
       "    <tr>\n",
       "      <th>Longitude</th>\n",
       "      <td>-0.866110</td>\n",
       "    </tr>\n",
       "  </tbody>\n",
       "</table>\n",
       "</div>"
      ],
      "text/plain": [
       "            Coefficients\n",
       "MedInc          0.827039\n",
       "HouseAge        0.117058\n",
       "AveRooms       -0.265273\n",
       "AveBedrms       0.307521\n",
       "Population     -0.003194\n",
       "AveOccup       -0.039498\n",
       "Latitude       -0.895963\n",
       "Longitude      -0.866110"
      ]
     },
     "execution_count": 20,
     "metadata": {},
     "output_type": "execute_result"
    }
   ],
   "source": [
    "pd.DataFrame(data=coeffs, index=california.feature_names, columns=[\"Coefficients\"])"
   ]
  },
  {
   "cell_type": "markdown",
   "metadata": {
    "slideshow": {
     "slide_type": "slide"
    }
   },
   "source": [
    "#### Magnitude of the coefficients\n",
    "\n",
    "- Bigger magnitude $\\rightarrow$ bigger impact on the prediction \n",
    "- In the example below, both MedInc and AveBedrms have a positive impact on the prediction but MedInc would have a bigger positive impact because it's feature value is going to be multiplied by a number with a bigger magnitude. "
   ]
  },
  {
   "cell_type": "code",
   "execution_count": 21,
   "metadata": {
    "slideshow": {
     "slide_type": "slide"
    }
   },
   "outputs": [
    {
     "data": {
      "text/html": [
       "<div>\n",
       "<style scoped>\n",
       "    .dataframe tbody tr th:only-of-type {\n",
       "        vertical-align: middle;\n",
       "    }\n",
       "\n",
       "    .dataframe tbody tr th {\n",
       "        vertical-align: top;\n",
       "    }\n",
       "\n",
       "    .dataframe thead th {\n",
       "        text-align: right;\n",
       "    }\n",
       "</style>\n",
       "<table border=\"1\" class=\"dataframe\">\n",
       "  <thead>\n",
       "    <tr style=\"text-align: right;\">\n",
       "      <th></th>\n",
       "      <th>coefficient</th>\n",
       "      <th>magnitude</th>\n",
       "    </tr>\n",
       "  </thead>\n",
       "  <tbody>\n",
       "    <tr>\n",
       "      <th>Latitude</th>\n",
       "      <td>-0.895963</td>\n",
       "      <td>0.895963</td>\n",
       "    </tr>\n",
       "    <tr>\n",
       "      <th>Longitude</th>\n",
       "      <td>-0.866110</td>\n",
       "      <td>0.866110</td>\n",
       "    </tr>\n",
       "    <tr>\n",
       "      <th>MedInc</th>\n",
       "      <td>0.827039</td>\n",
       "      <td>0.827039</td>\n",
       "    </tr>\n",
       "    <tr>\n",
       "      <th>AveBedrms</th>\n",
       "      <td>0.307521</td>\n",
       "      <td>0.307521</td>\n",
       "    </tr>\n",
       "    <tr>\n",
       "      <th>AveRooms</th>\n",
       "      <td>-0.265273</td>\n",
       "      <td>0.265273</td>\n",
       "    </tr>\n",
       "    <tr>\n",
       "      <th>HouseAge</th>\n",
       "      <td>0.117058</td>\n",
       "      <td>0.117058</td>\n",
       "    </tr>\n",
       "    <tr>\n",
       "      <th>AveOccup</th>\n",
       "      <td>-0.039498</td>\n",
       "      <td>0.039498</td>\n",
       "    </tr>\n",
       "    <tr>\n",
       "      <th>Population</th>\n",
       "      <td>-0.003194</td>\n",
       "      <td>0.003194</td>\n",
       "    </tr>\n",
       "  </tbody>\n",
       "</table>\n",
       "</div>"
      ],
      "text/plain": [
       "            coefficient  magnitude\n",
       "Latitude      -0.895963   0.895963\n",
       "Longitude     -0.866110   0.866110\n",
       "MedInc         0.827039   0.827039\n",
       "AveBedrms      0.307521   0.307521\n",
       "AveRooms      -0.265273   0.265273\n",
       "HouseAge       0.117058   0.117058\n",
       "AveOccup      -0.039498   0.039498\n",
       "Population    -0.003194   0.003194"
      ]
     },
     "execution_count": 21,
     "metadata": {},
     "output_type": "execute_result"
    }
   ],
   "source": [
    "data = {\n",
    "    \"coefficient\": pipe_ridge.named_steps[\"ridge\"].coef_.tolist(),\n",
    "    \"magnitude\": np.absolute(pipe_ridge.named_steps[\"ridge\"].coef_.tolist()),\n",
    "}\n",
    "coef_df = pd.DataFrame(data, index=california.feature_names).sort_values(\n",
    "    \"magnitude\", ascending=False\n",
    ")\n",
    "coef_df"
   ]
  },
  {
   "cell_type": "markdown",
   "metadata": {
    "slideshow": {
     "slide_type": "slide"
    }
   },
   "source": [
    "### Importance of scaling \n",
    "- When you are interpreting the model coefficients, scaling is crucial. \n",
    "- If you do not scale the data, features with smaller magnitude are going to get coefficients with bigger magnitude whereas features with bigger scale are going to get coefficients with smaller magnitude.\n",
    "- That said, when you scale the data, feature values become hard to interpret for humans!"
   ]
  },
  {
   "cell_type": "markdown",
   "metadata": {
    "slideshow": {
     "slide_type": "skip"
    }
   },
   "source": [
    "```{Important}\n",
    "Take these coefficients with a grain of salt. They might not always match your intuitions. Also, they do not tell us about how the world works. They only tell us about how the prediction of your model works. \n",
    "```"
   ]
  },
  {
   "cell_type": "markdown",
   "metadata": {},
   "source": [
    "<br><br>"
   ]
  },
  {
   "cell_type": "markdown",
   "metadata": {},
   "source": [
    "<br><br><br><br>"
   ]
  },
  {
   "cell_type": "markdown",
   "metadata": {
    "slideshow": {
     "slide_type": "slide"
    }
   },
   "source": [
    "## Logistic regression [[video](https://youtu.be/56L5z_t22qE)]"
   ]
  },
  {
   "cell_type": "markdown",
   "metadata": {
    "slideshow": {
     "slide_type": "slide"
    },
    "tags": []
   },
   "source": [
    "### Logistic regression intuition \n",
    "\n",
    "- A linear model for **classification**. \n",
    "- Similar to linear regression, it learns weights associated with each feature and the bias. \n",
    "- It applies a **threshold** on the raw output to decide whether the class is positive or negative. \n",
    "- In this lecture we will focus on the following aspects of logistic regression.  \n",
    "    - `predict`, `predict_proba` \n",
    "    - how to use learned coefficients to interpret the model"
   ]
  },
  {
   "cell_type": "markdown",
   "metadata": {
    "slideshow": {
     "slide_type": "slide"
    }
   },
   "source": [
    "### Motivating example \n",
    "\n",
    "- Consider the problem of predicting sentiment expressed in movie reviews. "
   ]
  },
  {
   "cell_type": "markdown",
   "metadata": {
    "slideshow": {
     "slide_type": "slide"
    }
   },
   "source": [
    "#### Training data for the motivating example\n",
    "\n",
    "\n",
    "<blockquote> \n",
    "    <p>Review 1: This movie was <b>excellent</b>! The performances were oscar-worthy!  👍 </p> \n",
    "    <p>Review 2: What a <b>boring</b> movie! I almost fell asleep twice while watching it. 👎 </p> \n",
    "    <p>Review 3: I enjoyed the movie. <b>Excellent</b>! 👍 </p>             \n",
    "</blockquote>  \n",
    "\n",
    "- Targets: positive 👍 and negative 👎\n",
    "- Features: words (e.g., *excellent*, *flawless*, *boring*)\n"
   ]
  },
  {
   "cell_type": "markdown",
   "metadata": {
    "slideshow": {
     "slide_type": "slide"
    }
   },
   "source": [
    "#### Learned coefficients associated with all features\n",
    "\n",
    "- Suppose our vocabulary contains only the following 7 words. \n",
    "- A linear classifier learns **weights** or **coefficients** associated with the features (words in this example).  \n",
    "- Let's ignore bias for a bit. \n",
    "\n",
    "![](../img/words_coeff.png)"
   ]
  },
  {
   "cell_type": "markdown",
   "metadata": {
    "slideshow": {
     "slide_type": "slide"
    }
   },
   "source": [
    "#### Predicting with learned weights \n",
    "- Use these learned coefficients to make predictions. For example, consider the following review $x_i$. \n",
    "<blockquote> \n",
    "It got a bit <b>boring</b> at times but the direction was <b>excellent</b> and the acting was <b>flawless</b>.\n",
    "</blockquote>\n",
    "- Feature vector for $x_i$: [1, 0, 1, 1, 0, 0, 0]"
   ]
  },
  {
   "cell_type": "markdown",
   "metadata": {
    "slideshow": {
     "slide_type": "slide"
    }
   },
   "source": [
    "\n",
    "- $score(x_i) = $ coefficient(*boring*) $\\times 1$ + coefficient(*excellent*) $\\times 1$ + coefficient(*flawless*) $\\times 1$ = $-1.40 + 1.93 + 1.43 = 1.96$\n",
    "\n",
    "- $1.96 > 0$ so predict the review as positive 👍. "
   ]
  },
  {
   "cell_type": "code",
   "execution_count": 22,
   "metadata": {
    "slideshow": {
     "slide_type": "slide"
    }
   },
   "outputs": [
    {
     "name": "stdout",
     "output_type": "stream",
     "text": [
      "Weighted sum of the input features = 1.960 y_hat = pos\n"
     ]
    },
    {
     "data": {
      "image/svg+xml": [
       "<?xml version=\"1.0\" encoding=\"UTF-8\" standalone=\"no\"?>\n",
       "<!DOCTYPE svg PUBLIC \"-//W3C//DTD SVG 1.1//EN\"\n",
       " \"http://www.w3.org/Graphics/SVG/1.1/DTD/svg11.dtd\">\n",
       "<!-- Generated by graphviz version 12.0.0 (0)\n",
       " -->\n",
       "<!-- Pages: 1 -->\n",
       "<svg width=\"308pt\" height=\"403pt\"\n",
       " viewBox=\"0.00 0.00 308.48 403.00\" xmlns=\"http://www.w3.org/2000/svg\" xmlns:xlink=\"http://www.w3.org/1999/xlink\">\n",
       "<g id=\"graph0\" class=\"graph\" transform=\"scale(1 1) rotate(0) translate(4 399)\">\n",
       "<polygon fill=\"white\" stroke=\"none\" points=\"-4,4 -4,-399 304.48,-399 304.48,4 -4,4\"/>\n",
       "<g id=\"clust1\" class=\"cluster\">\n",
       "<title>cluster_0</title>\n",
       "<polygon fill=\"none\" stroke=\"white\" points=\"8,-8 8,-387 132.84,-387 132.84,-8 8,-8\"/>\n",
       "<text text-anchor=\"middle\" x=\"70.42\" y=\"-369.7\" font-family=\"Times,serif\" font-size=\"14.00\">inputs</text>\n",
       "</g>\n",
       "<g id=\"clust2\" class=\"cluster\">\n",
       "<title>cluster_2</title>\n",
       "<polygon fill=\"none\" stroke=\"white\" points=\"176.84,-133 176.84,-273 292.48,-273 292.48,-133 176.84,-133\"/>\n",
       "<text text-anchor=\"middle\" x=\"234.66\" y=\"-255.7\" font-family=\"Times,serif\" font-size=\"14.00\">output</text>\n",
       "</g>\n",
       "<!-- boring=1 -->\n",
       "<g id=\"node1\" class=\"node\">\n",
       "<title>boring=1</title>\n",
       "<ellipse fill=\"none\" stroke=\"black\" cx=\"70.42\" cy=\"-309\" rx=\"45.21\" ry=\"45.21\"/>\n",
       "<text text-anchor=\"middle\" x=\"70.42\" y=\"-303.95\" font-family=\"Times,serif\" font-size=\"14.00\">boring=1</text>\n",
       "</g>\n",
       "<!-- y_hat=pos -->\n",
       "<g id=\"node4\" class=\"node\">\n",
       "<title>y_hat=pos</title>\n",
       "<ellipse fill=\"none\" stroke=\"black\" cx=\"234.66\" cy=\"-191\" rx=\"49.82\" ry=\"49.82\"/>\n",
       "<text text-anchor=\"middle\" x=\"234.66\" y=\"-185.95\" font-family=\"Times,serif\" font-size=\"14.00\">y_hat=pos</text>\n",
       "</g>\n",
       "<!-- boring=1&#45;&gt;y_hat=pos -->\n",
       "<g id=\"edge1\" class=\"edge\">\n",
       "<title>boring=1&#45;&gt;y_hat=pos</title>\n",
       "<path fill=\"none\" stroke=\"black\" d=\"M107.43,-282.81C130.11,-266.32 159.69,-244.8 184.51,-226.75\"/>\n",
       "<polygon fill=\"black\" stroke=\"black\" points=\"186.52,-229.62 192.55,-220.9 182.4,-223.95 186.52,-229.62\"/>\n",
       "<text text-anchor=\"middle\" x=\"154.84\" y=\"-256.2\" font-family=\"Times,serif\" font-size=\"14.00\">&#45;1.4</text>\n",
       "</g>\n",
       "<!-- excellent=1 -->\n",
       "<g id=\"node2\" class=\"node\">\n",
       "<title>excellent=1</title>\n",
       "<ellipse fill=\"none\" stroke=\"black\" cx=\"70.42\" cy=\"-191\" rx=\"54.42\" ry=\"54.42\"/>\n",
       "<text text-anchor=\"middle\" x=\"70.42\" y=\"-185.95\" font-family=\"Times,serif\" font-size=\"14.00\">excellent=1</text>\n",
       "</g>\n",
       "<!-- excellent=1&#45;&gt;y_hat=pos -->\n",
       "<g id=\"edge2\" class=\"edge\">\n",
       "<title>excellent=1&#45;&gt;y_hat=pos</title>\n",
       "<path fill=\"none\" stroke=\"black\" d=\"M124.99,-191C140.44,-191 157.4,-191 173.24,-191\"/>\n",
       "<polygon fill=\"black\" stroke=\"black\" points=\"173.02,-194.5 183.02,-191 173.02,-187.5 173.02,-194.5\"/>\n",
       "<text text-anchor=\"middle\" x=\"154.84\" y=\"-194.2\" font-family=\"Times,serif\" font-size=\"14.00\">1.93</text>\n",
       "</g>\n",
       "<!-- flawless=1 -->\n",
       "<g id=\"node3\" class=\"node\">\n",
       "<title>flawless=1</title>\n",
       "<ellipse fill=\"none\" stroke=\"black\" cx=\"70.42\" cy=\"-67\" rx=\"51.35\" ry=\"51.35\"/>\n",
       "<text text-anchor=\"middle\" x=\"70.42\" y=\"-61.95\" font-family=\"Times,serif\" font-size=\"14.00\">flawless=1</text>\n",
       "</g>\n",
       "<!-- flawless=1&#45;&gt;y_hat=pos -->\n",
       "<g id=\"edge3\" class=\"edge\">\n",
       "<title>flawless=1&#45;&gt;y_hat=pos</title>\n",
       "<path fill=\"none\" stroke=\"black\" d=\"M111.94,-97.97C134.23,-115.01 162.03,-136.25 185.43,-154.14\"/>\n",
       "<polygon fill=\"black\" stroke=\"black\" points=\"183.22,-156.85 193.29,-160.15 187.47,-151.29 183.22,-156.85\"/>\n",
       "<text text-anchor=\"middle\" x=\"154.84\" y=\"-139.2\" font-family=\"Times,serif\" font-size=\"14.00\">1.43</text>\n",
       "</g>\n",
       "</g>\n",
       "</svg>\n"
      ],
      "text/plain": [
       "<graphviz.graphs.Digraph at 0x155576840>"
      ]
     },
     "metadata": {},
     "output_type": "display_data"
    }
   ],
   "source": [
    "x = [\"boring=1\", \"excellent=1\", \"flawless=1\"]\n",
    "w = [-1.40, 1.93, 1.43]\n",
    "display(plot_logistic_regression(x, w))"
   ]
  },
  {
   "cell_type": "markdown",
   "metadata": {
    "slideshow": {
     "slide_type": "slide"
    }
   },
   "source": [
    "- So the prediction is based on the weighted sum of the input features.\n",
    "- Some feature are pulling the prediction towards positive sentiment and some are pulling it towards negative sentiment. \n",
    "- If the coefficient of _boring_ had a bigger magnitude or _excellent_ and _flawless_ had smaller magnitudes, we would have predicted \"neg\".   "
   ]
  },
  {
   "cell_type": "markdown",
   "metadata": {
    "slideshow": {
     "slide_type": "skip"
    }
   },
   "source": [
    "In our case, for values for the coefficient of _boring_ < -3.36, the prediction would be negative. \n",
    "\n",
    "A linear model learns these coefficients or weights from the training data! "
   ]
  },
  {
   "cell_type": "markdown",
   "metadata": {
    "slideshow": {
     "slide_type": "slide"
    }
   },
   "source": [
    "So a linear classifier is a linear function of the input `X`, followed by a threshold. \n",
    "\n",
    "\\begin{equation}\n",
    "\\begin{split}\n",
    "z =& w_1x_1 + \\dots + w_dx_d + b\\\\\n",
    "=& w^Tx + b\n",
    "\\end{split}\n",
    "\\end{equation}\n",
    "\n",
    "$$\\hat{y} = \\begin{cases}\n",
    "         1, & \\text{if } z \\geq r\\\\\n",
    "         -1, & \\text{if } z < r\n",
    "\\end{cases}$$"
   ]
  },
  {
   "cell_type": "markdown",
   "metadata": {
    "slideshow": {
     "slide_type": "slide"
    }
   },
   "source": [
    "#### Components of a linear classifier\n",
    "\n",
    "1. input features ($x_1, \\dots, x_d$)\n",
    "2. coefficients (weights) ($w_1, \\dots, w_d$)\n",
    "3. bias ($b$ or $w_0$) (can be used to offset your hyperplane)\n",
    "4. threshold ($r$)\n",
    "\n",
    "In our example before, we assumed $r=0$ and $b=0$."
   ]
  },
  {
   "cell_type": "markdown",
   "metadata": {
    "slideshow": {
     "slide_type": "slide"
    }
   },
   "source": [
    "### Logistic regression on the cities data"
   ]
  },
  {
   "cell_type": "code",
   "execution_count": 23,
   "metadata": {},
   "outputs": [
    {
     "data": {
      "text/html": [
       "<div>\n",
       "<style scoped>\n",
       "    .dataframe tbody tr th:only-of-type {\n",
       "        vertical-align: middle;\n",
       "    }\n",
       "\n",
       "    .dataframe tbody tr th {\n",
       "        vertical-align: top;\n",
       "    }\n",
       "\n",
       "    .dataframe thead th {\n",
       "        text-align: right;\n",
       "    }\n",
       "</style>\n",
       "<table border=\"1\" class=\"dataframe\">\n",
       "  <thead>\n",
       "    <tr style=\"text-align: right;\">\n",
       "      <th></th>\n",
       "      <th>longitude</th>\n",
       "      <th>latitude</th>\n",
       "      <th>country</th>\n",
       "    </tr>\n",
       "  </thead>\n",
       "  <tbody>\n",
       "    <tr>\n",
       "      <th>160</th>\n",
       "      <td>-76.4813</td>\n",
       "      <td>44.2307</td>\n",
       "      <td>Canada</td>\n",
       "    </tr>\n",
       "    <tr>\n",
       "      <th>127</th>\n",
       "      <td>-81.2496</td>\n",
       "      <td>42.9837</td>\n",
       "      <td>Canada</td>\n",
       "    </tr>\n",
       "    <tr>\n",
       "      <th>169</th>\n",
       "      <td>-66.0580</td>\n",
       "      <td>45.2788</td>\n",
       "      <td>Canada</td>\n",
       "    </tr>\n",
       "    <tr>\n",
       "      <th>188</th>\n",
       "      <td>-73.2533</td>\n",
       "      <td>45.3057</td>\n",
       "      <td>Canada</td>\n",
       "    </tr>\n",
       "    <tr>\n",
       "      <th>187</th>\n",
       "      <td>-67.9245</td>\n",
       "      <td>47.1652</td>\n",
       "      <td>Canada</td>\n",
       "    </tr>\n",
       "  </tbody>\n",
       "</table>\n",
       "</div>"
      ],
      "text/plain": [
       "     longitude  latitude country\n",
       "160   -76.4813   44.2307  Canada\n",
       "127   -81.2496   42.9837  Canada\n",
       "169   -66.0580   45.2788  Canada\n",
       "188   -73.2533   45.3057  Canada\n",
       "187   -67.9245   47.1652  Canada"
      ]
     },
     "execution_count": 23,
     "metadata": {},
     "output_type": "execute_result"
    }
   ],
   "source": [
    "cities_df = pd.read_csv(DATA_DIR + \"canada_usa_cities.csv\")\n",
    "train_df, test_df = train_test_split(cities_df, test_size=0.2, random_state=123)\n",
    "X_train, y_train = train_df.drop(columns=[\"country\"]).values, train_df[\"country\"].values\n",
    "X_test, y_test = test_df.drop(columns=[\"country\"]).values, test_df[\"country\"].values\n",
    "\n",
    "cols = train_df.drop(columns=[\"country\"]).columns\n",
    "train_df.head()"
   ]
  },
  {
   "cell_type": "markdown",
   "metadata": {
    "slideshow": {
     "slide_type": "slide"
    }
   },
   "source": [
    "Let's first try `DummyClassifier` on the cities data. "
   ]
  },
  {
   "cell_type": "code",
   "execution_count": 24,
   "metadata": {
    "slideshow": {
     "slide_type": "-"
    }
   },
   "outputs": [
    {
     "data": {
      "text/html": [
       "<div>\n",
       "<style scoped>\n",
       "    .dataframe tbody tr th:only-of-type {\n",
       "        vertical-align: middle;\n",
       "    }\n",
       "\n",
       "    .dataframe tbody tr th {\n",
       "        vertical-align: top;\n",
       "    }\n",
       "\n",
       "    .dataframe thead th {\n",
       "        text-align: right;\n",
       "    }\n",
       "</style>\n",
       "<table border=\"1\" class=\"dataframe\">\n",
       "  <thead>\n",
       "    <tr style=\"text-align: right;\">\n",
       "      <th></th>\n",
       "      <th>fit_time</th>\n",
       "      <th>score_time</th>\n",
       "      <th>test_score</th>\n",
       "      <th>train_score</th>\n",
       "    </tr>\n",
       "  </thead>\n",
       "  <tbody>\n",
       "    <tr>\n",
       "      <th>0</th>\n",
       "      <td>0.001084</td>\n",
       "      <td>0.000610</td>\n",
       "      <td>0.588235</td>\n",
       "      <td>0.601504</td>\n",
       "    </tr>\n",
       "    <tr>\n",
       "      <th>1</th>\n",
       "      <td>0.000161</td>\n",
       "      <td>0.000207</td>\n",
       "      <td>0.588235</td>\n",
       "      <td>0.601504</td>\n",
       "    </tr>\n",
       "    <tr>\n",
       "      <th>2</th>\n",
       "      <td>0.000134</td>\n",
       "      <td>0.000197</td>\n",
       "      <td>0.606061</td>\n",
       "      <td>0.597015</td>\n",
       "    </tr>\n",
       "    <tr>\n",
       "      <th>3</th>\n",
       "      <td>0.000124</td>\n",
       "      <td>0.000170</td>\n",
       "      <td>0.606061</td>\n",
       "      <td>0.597015</td>\n",
       "    </tr>\n",
       "    <tr>\n",
       "      <th>4</th>\n",
       "      <td>0.000124</td>\n",
       "      <td>0.000165</td>\n",
       "      <td>0.606061</td>\n",
       "      <td>0.597015</td>\n",
       "    </tr>\n",
       "  </tbody>\n",
       "</table>\n",
       "</div>"
      ],
      "text/plain": [
       "   fit_time  score_time  test_score  train_score\n",
       "0  0.001084    0.000610    0.588235     0.601504\n",
       "1  0.000161    0.000207    0.588235     0.601504\n",
       "2  0.000134    0.000197    0.606061     0.597015\n",
       "3  0.000124    0.000170    0.606061     0.597015\n",
       "4  0.000124    0.000165    0.606061     0.597015"
      ]
     },
     "execution_count": 24,
     "metadata": {},
     "output_type": "execute_result"
    }
   ],
   "source": [
    "dummy = DummyClassifier()\n",
    "scores = cross_validate(dummy, X_train, y_train, return_train_score=True)\n",
    "pd.DataFrame(scores)"
   ]
  },
  {
   "cell_type": "markdown",
   "metadata": {
    "slideshow": {
     "slide_type": "slide"
    }
   },
   "source": [
    "Now let's try `LogisticRegression`"
   ]
  },
  {
   "cell_type": "code",
   "execution_count": 25,
   "metadata": {
    "slideshow": {
     "slide_type": "-"
    }
   },
   "outputs": [
    {
     "data": {
      "text/html": [
       "<div>\n",
       "<style scoped>\n",
       "    .dataframe tbody tr th:only-of-type {\n",
       "        vertical-align: middle;\n",
       "    }\n",
       "\n",
       "    .dataframe tbody tr th {\n",
       "        vertical-align: top;\n",
       "    }\n",
       "\n",
       "    .dataframe thead th {\n",
       "        text-align: right;\n",
       "    }\n",
       "</style>\n",
       "<table border=\"1\" class=\"dataframe\">\n",
       "  <thead>\n",
       "    <tr style=\"text-align: right;\">\n",
       "      <th></th>\n",
       "      <th>fit_time</th>\n",
       "      <th>score_time</th>\n",
       "      <th>test_score</th>\n",
       "      <th>train_score</th>\n",
       "    </tr>\n",
       "  </thead>\n",
       "  <tbody>\n",
       "    <tr>\n",
       "      <th>0</th>\n",
       "      <td>0.006438</td>\n",
       "      <td>0.000419</td>\n",
       "      <td>0.852941</td>\n",
       "      <td>0.827068</td>\n",
       "    </tr>\n",
       "    <tr>\n",
       "      <th>1</th>\n",
       "      <td>0.002974</td>\n",
       "      <td>0.000386</td>\n",
       "      <td>0.823529</td>\n",
       "      <td>0.827068</td>\n",
       "    </tr>\n",
       "    <tr>\n",
       "      <th>2</th>\n",
       "      <td>0.002618</td>\n",
       "      <td>0.000384</td>\n",
       "      <td>0.696970</td>\n",
       "      <td>0.858209</td>\n",
       "    </tr>\n",
       "    <tr>\n",
       "      <th>3</th>\n",
       "      <td>0.002274</td>\n",
       "      <td>0.000336</td>\n",
       "      <td>0.787879</td>\n",
       "      <td>0.843284</td>\n",
       "    </tr>\n",
       "    <tr>\n",
       "      <th>4</th>\n",
       "      <td>0.003479</td>\n",
       "      <td>0.000415</td>\n",
       "      <td>0.939394</td>\n",
       "      <td>0.805970</td>\n",
       "    </tr>\n",
       "  </tbody>\n",
       "</table>\n",
       "</div>"
      ],
      "text/plain": [
       "   fit_time  score_time  test_score  train_score\n",
       "0  0.006438    0.000419    0.852941     0.827068\n",
       "1  0.002974    0.000386    0.823529     0.827068\n",
       "2  0.002618    0.000384    0.696970     0.858209\n",
       "3  0.002274    0.000336    0.787879     0.843284\n",
       "4  0.003479    0.000415    0.939394     0.805970"
      ]
     },
     "execution_count": 25,
     "metadata": {},
     "output_type": "execute_result"
    }
   ],
   "source": [
    "from sklearn.linear_model import LogisticRegression\n",
    "\n",
    "lr = LogisticRegression()\n",
    "scores = cross_validate(lr, X_train, y_train, return_train_score=True)\n",
    "pd.DataFrame(scores)"
   ]
  },
  {
   "cell_type": "markdown",
   "metadata": {},
   "source": [
    "Logistic regression seems to be doing better than dummy classifier. But note that there is a lot of variation in the scores. "
   ]
  },
  {
   "cell_type": "markdown",
   "metadata": {
    "slideshow": {
     "slide_type": "slide"
    }
   },
   "source": [
    "### Accessing learned parameters\n",
    "\n",
    "- Recall that logistic regression learns the weights $w$ and bias or intercept $b$.\n",
    "\n",
    "- How to access these weights? \n",
    "    - Similar to `Ridge`, we can access the weights and intercept using `coef_` and `intercept_` attribute of the `LogisticRegression` object, respectively. "
   ]
  },
  {
   "cell_type": "code",
   "execution_count": 26,
   "metadata": {
    "slideshow": {
     "slide_type": "slide"
    }
   },
   "outputs": [
    {
     "name": "stdout",
     "output_type": "stream",
     "text": [
      "Model weights: [[-0.04108378 -0.33683087]]\n",
      "Model intercept: [10.886759]\n"
     ]
    },
    {
     "data": {
      "text/html": [
       "<div>\n",
       "<style scoped>\n",
       "    .dataframe tbody tr th:only-of-type {\n",
       "        vertical-align: middle;\n",
       "    }\n",
       "\n",
       "    .dataframe tbody tr th {\n",
       "        vertical-align: top;\n",
       "    }\n",
       "\n",
       "    .dataframe thead th {\n",
       "        text-align: right;\n",
       "    }\n",
       "</style>\n",
       "<table border=\"1\" class=\"dataframe\">\n",
       "  <thead>\n",
       "    <tr style=\"text-align: right;\">\n",
       "      <th></th>\n",
       "      <th>features</th>\n",
       "      <th>coefficients</th>\n",
       "    </tr>\n",
       "  </thead>\n",
       "  <tbody>\n",
       "    <tr>\n",
       "      <th>0</th>\n",
       "      <td>longitude</td>\n",
       "      <td>-0.041084</td>\n",
       "    </tr>\n",
       "    <tr>\n",
       "      <th>1</th>\n",
       "      <td>latitude</td>\n",
       "      <td>-0.336831</td>\n",
       "    </tr>\n",
       "  </tbody>\n",
       "</table>\n",
       "</div>"
      ],
      "text/plain": [
       "    features  coefficients\n",
       "0  longitude     -0.041084\n",
       "1   latitude     -0.336831"
      ]
     },
     "execution_count": 26,
     "metadata": {},
     "output_type": "execute_result"
    }
   ],
   "source": [
    "lr = LogisticRegression()\n",
    "lr.fit(X_train, y_train)\n",
    "print(\"Model weights: %s\" % (lr.coef_))  # these are the learned weights\n",
    "print(\"Model intercept: %s\" % (lr.intercept_))  # this is the bias term\n",
    "data = {\"features\": cols, \"coefficients\": lr.coef_[0]}\n",
    "pd.DataFrame(data)"
   ]
  },
  {
   "cell_type": "markdown",
   "metadata": {},
   "source": [
    "- Both negative weights \n",
    "- The weight of latitude is larger in magnitude. \n",
    "- This makes sense because Canada as a country lies above the USA and so we expect latitude values to contribute more to a prediction than longitude. "
   ]
  },
  {
   "cell_type": "markdown",
   "metadata": {
    "slideshow": {
     "slide_type": "slide"
    }
   },
   "source": [
    "### Prediction with learned parameters\n",
    "\n",
    "Let's predict target of a test example. "
   ]
  },
  {
   "cell_type": "code",
   "execution_count": 27,
   "metadata": {
    "slideshow": {
     "slide_type": "-"
    }
   },
   "outputs": [
    {
     "data": {
      "text/plain": [
       "array([-64.8001,  46.098 ])"
      ]
     },
     "execution_count": 27,
     "metadata": {},
     "output_type": "execute_result"
    }
   ],
   "source": [
    "example = X_test[0, :]\n",
    "example"
   ]
  },
  {
   "cell_type": "markdown",
   "metadata": {
    "slideshow": {
     "slide_type": "slide"
    }
   },
   "source": [
    "#### Raw scores\n",
    "\n",
    "- Calculate the raw score as: ```y_hat = np.dot(w, x) + b```"
   ]
  },
  {
   "cell_type": "code",
   "execution_count": 28,
   "metadata": {
    "slideshow": {
     "slide_type": "-"
    }
   },
   "outputs": [
    {
     "data": {
      "text/plain": [
       "array([-1.97823755])"
      ]
     },
     "execution_count": 28,
     "metadata": {},
     "output_type": "execute_result"
    }
   ],
   "source": [
    "(\n",
    "    np.dot(\n",
    "        example,\n",
    "        lr.coef_.reshape(\n",
    "            2,\n",
    "        ),\n",
    "    )\n",
    "    + lr.intercept_\n",
    ")"
   ]
  },
  {
   "cell_type": "markdown",
   "metadata": {
    "slideshow": {
     "slide_type": "slide"
    }
   },
   "source": [
    "- Apply the threshold to the raw score. \n",
    "- Since the prediction is < 0, predict \"negative\". \n",
    "- What is a \"negative\" class in our context? \n",
    "- With logistic regression, the model randomly assigns one of the classes as a positive class and the other as negative. \n",
    "    - Usually it would alphabetically order the target and pick the first one as negative and second one as the positive class. "
   ]
  },
  {
   "cell_type": "markdown",
   "metadata": {
    "slideshow": {
     "slide_type": "slide"
    }
   },
   "source": [
    "- The `classes_` attribute tells us which class is considered negative and which one is considered positive. - In this case, Canada is the negative class and USA is a positive class. "
   ]
  },
  {
   "cell_type": "code",
   "execution_count": 29,
   "metadata": {},
   "outputs": [
    {
     "data": {
      "text/plain": [
       "array(['Canada', 'USA'], dtype=object)"
      ]
     },
     "execution_count": 29,
     "metadata": {},
     "output_type": "execute_result"
    }
   ],
   "source": [
    "lr.classes_"
   ]
  },
  {
   "cell_type": "markdown",
   "metadata": {
    "slideshow": {
     "slide_type": "slide"
    }
   },
   "source": [
    "- So based on the negative score above (-1.978), we would predict Canada. \n",
    "- Let's check the prediction given by the model. "
   ]
  },
  {
   "cell_type": "code",
   "execution_count": 30,
   "metadata": {},
   "outputs": [
    {
     "data": {
      "text/plain": [
       "array(['Canada'], dtype=object)"
      ]
     },
     "execution_count": 30,
     "metadata": {},
     "output_type": "execute_result"
    }
   ],
   "source": [
    "lr.predict([example])"
   ]
  },
  {
   "cell_type": "markdown",
   "metadata": {},
   "source": [
    "Great! The predictions match! We exactly know how the model is making predictions. "
   ]
  },
  {
   "cell_type": "markdown",
   "metadata": {
    "slideshow": {
     "slide_type": "slide"
    }
   },
   "source": [
    "### Decision boundary of logistic regression\n",
    "\n",
    "- The decision boundary of logistic regression is a **hyperplane** dividing the feature space in half. "
   ]
  },
  {
   "cell_type": "code",
   "execution_count": 31,
   "metadata": {
    "slideshow": {
     "slide_type": "slide"
    }
   },
   "outputs": [
    {
     "data": {
      "image/png": "[encoded data removed]",
      "text/plain": [
       "<Figure size 640x480 with 1 Axes>"
      ]
     },
     "metadata": {},
     "output_type": "display_data"
    }
   ],
   "source": [
    "lr = LogisticRegression()\n",
    "lr.fit(X_train, y_train)\n",
    "mglearn.discrete_scatter(X_train[:, 0], X_train[:, 1], y_train)\n",
    "mglearn.plots.plot_2d_separator(lr, X_train, fill=False, eps=0.5, alpha=0.7)\n",
    "plt.title(lr.__class__.__name__)\n",
    "plt.xlabel(\"longitude\")\n",
    "plt.ylabel(\"latitude\");"
   ]
  },
  {
   "cell_type": "markdown",
   "metadata": {
    "slideshow": {
     "slide_type": "slide"
    }
   },
   "source": [
    "- For $d=2$, the decision boundary is a line (1-dimensional)\n",
    "- For $d=3$, the decision boundary is a plane (2-dimensional)\n",
    "- For $d\\gt 3$, the decision boundary is a $d-1$-dimensional hyperplane"
   ]
  },
  {
   "cell_type": "code",
   "execution_count": 32,
   "metadata": {
    "slideshow": {
     "slide_type": "slide"
    }
   },
   "outputs": [
    {
     "data": {
      "image/png": "[encoded data removed]",
      "text/plain": [
       "<Figure size 2000x500 with 3 Axes>"
      ]
     },
     "metadata": {},
     "output_type": "display_data"
    }
   ],
   "source": [
    "fig, axes = plt.subplots(1, 3, figsize=(20, 5))\n",
    "for model, ax in zip(\n",
    "    [KNeighborsClassifier(), SVC(gamma=0.01), LogisticRegression()], axes\n",
    "):\n",
    "    clf = model.fit(X_train, y_train)\n",
    "    mglearn.plots.plot_2d_separator(\n",
    "        clf, X_train, fill=True, eps=0.5, ax=ax, alpha=0.4\n",
    "    )\n",
    "    mglearn.discrete_scatter(X_train[:, 0], X_train[:, 1], y_train, ax=ax)\n",
    "    ax.set_title(clf.__class__.__name__)\n",
    "    ax.set_xlabel(\"longitude\")\n",
    "    ax.set_ylabel(\"latitude\")\n",
    "axes[0].legend();"
   ]
  },
  {
   "cell_type": "markdown",
   "metadata": {
    "slideshow": {
     "slide_type": "slide"
    }
   },
   "source": [
    "- Notice a linear decision boundary (a line in our case). \n",
    "- Compare it with  KNN or SVM RBF decision boundaries. "
   ]
  },
  {
   "cell_type": "markdown",
   "metadata": {
    "slideshow": {
     "slide_type": "slide"
    }
   },
   "source": [
    "### Main hyperparameter of logistic regression \n",
    "\n",
    "- `C` is the main hyperparameter which controls the fundamental trade-off.\n",
    "- We won't really talk about the interpretation of this hyperparameter right now. \n",
    "- At a high level, the interpretation is similar to `C` of SVM RBF\n",
    "    - smaller `C` $\\rightarrow$ might lead to underfitting\n",
    "    - bigger `C` $\\rightarrow$ might lead to overfitting"
   ]
  },
  {
   "cell_type": "code",
   "execution_count": 33,
   "metadata": {
    "slideshow": {
     "slide_type": "slide"
    }
   },
   "outputs": [
    {
     "data": {
      "text/html": [
       "<div>\n",
       "<style scoped>\n",
       "    .dataframe tbody tr th:only-of-type {\n",
       "        vertical-align: middle;\n",
       "    }\n",
       "\n",
       "    .dataframe tbody tr th {\n",
       "        vertical-align: top;\n",
       "    }\n",
       "\n",
       "    .dataframe thead th {\n",
       "        text-align: right;\n",
       "    }\n",
       "</style>\n",
       "<table border=\"1\" class=\"dataframe\">\n",
       "  <thead>\n",
       "    <tr style=\"text-align: right;\">\n",
       "      <th></th>\n",
       "      <th>C</th>\n",
       "      <th>mean_train_scores</th>\n",
       "      <th>mean_cv_scores</th>\n",
       "    </tr>\n",
       "  </thead>\n",
       "  <tbody>\n",
       "    <tr>\n",
       "      <th>0</th>\n",
       "      <td>0.0001</td>\n",
       "      <td>0.664707</td>\n",
       "      <td>0.658645</td>\n",
       "    </tr>\n",
       "    <tr>\n",
       "      <th>1</th>\n",
       "      <td>0.0010</td>\n",
       "      <td>0.784424</td>\n",
       "      <td>0.790731</td>\n",
       "    </tr>\n",
       "    <tr>\n",
       "      <th>2</th>\n",
       "      <td>0.0100</td>\n",
       "      <td>0.827842</td>\n",
       "      <td>0.826203</td>\n",
       "    </tr>\n",
       "    <tr>\n",
       "      <th>3</th>\n",
       "      <td>0.1000</td>\n",
       "      <td>0.832320</td>\n",
       "      <td>0.820143</td>\n",
       "    </tr>\n",
       "    <tr>\n",
       "      <th>4</th>\n",
       "      <td>1.0000</td>\n",
       "      <td>0.832320</td>\n",
       "      <td>0.820143</td>\n",
       "    </tr>\n",
       "    <tr>\n",
       "      <th>5</th>\n",
       "      <td>10.0000</td>\n",
       "      <td>0.832320</td>\n",
       "      <td>0.820143</td>\n",
       "    </tr>\n",
       "    <tr>\n",
       "      <th>6</th>\n",
       "      <td>100.0000</td>\n",
       "      <td>0.832320</td>\n",
       "      <td>0.820143</td>\n",
       "    </tr>\n",
       "    <tr>\n",
       "      <th>7</th>\n",
       "      <td>1000.0000</td>\n",
       "      <td>0.832320</td>\n",
       "      <td>0.820143</td>\n",
       "    </tr>\n",
       "    <tr>\n",
       "      <th>8</th>\n",
       "      <td>10000.0000</td>\n",
       "      <td>0.832320</td>\n",
       "      <td>0.820143</td>\n",
       "    </tr>\n",
       "    <tr>\n",
       "      <th>9</th>\n",
       "      <td>100000.0000</td>\n",
       "      <td>0.832320</td>\n",
       "      <td>0.820143</td>\n",
       "    </tr>\n",
       "  </tbody>\n",
       "</table>\n",
       "</div>"
      ],
      "text/plain": [
       "             C  mean_train_scores  mean_cv_scores\n",
       "0       0.0001           0.664707        0.658645\n",
       "1       0.0010           0.784424        0.790731\n",
       "2       0.0100           0.827842        0.826203\n",
       "3       0.1000           0.832320        0.820143\n",
       "4       1.0000           0.832320        0.820143\n",
       "5      10.0000           0.832320        0.820143\n",
       "6     100.0000           0.832320        0.820143\n",
       "7    1000.0000           0.832320        0.820143\n",
       "8   10000.0000           0.832320        0.820143\n",
       "9  100000.0000           0.832320        0.820143"
      ]
     },
     "execution_count": 33,
     "metadata": {},
     "output_type": "execute_result"
    }
   ],
   "source": [
    "scores_dict = {\n",
    "    \"C\": 10.0 ** np.arange(-4, 6, 1),\n",
    "    \"mean_train_scores\": list(),\n",
    "    \"mean_cv_scores\": list(),\n",
    "}\n",
    "for C in scores_dict[\"C\"]:\n",
    "    lr = LogisticRegression(C=C)\n",
    "    scores = cross_validate(lr, X_train, y_train, return_train_score=True)\n",
    "    scores_dict[\"mean_train_scores\"].append(scores[\"train_score\"].mean())\n",
    "    scores_dict[\"mean_cv_scores\"].append(scores[\"test_score\"].mean())\n",
    "\n",
    "results_df = pd.DataFrame(scores_dict)\n",
    "results_df"
   ]
  },
  {
   "cell_type": "markdown",
   "metadata": {},
   "source": [
    "<br><br><br><br>"
   ]
  },
  {
   "cell_type": "markdown",
   "metadata": {
    "slideshow": {
     "slide_type": "slide"
    }
   },
   "source": [
    "## Predicting probability scores [[video](https://youtu.be/_OAK5KiGLg0)]"
   ]
  },
  {
   "cell_type": "markdown",
   "metadata": {
    "slideshow": {
     "slide_type": "slide"
    }
   },
   "source": [
    "### `predict_proba`\n",
    "\n",
    "- So far in the context of classification problems, we focused on getting \"hard\" predictions. \n",
    "- Very often it's useful to know \"soft\" predictions, i.e., how confident the model is with a given prediction.  \n",
    "- For most of the `scikit-learn` classification models we can access this confidence score or probability score using a method called `predict_proba`.  "
   ]
  },
  {
   "cell_type": "markdown",
   "metadata": {
    "slideshow": {
     "slide_type": "slide"
    }
   },
   "source": [
    "Let's look at probability scores of logistic regression model for our test example. "
   ]
  },
  {
   "cell_type": "code",
   "execution_count": 34,
   "metadata": {},
   "outputs": [
    {
     "data": {
      "text/plain": [
       "array([-64.8001,  46.098 ])"
      ]
     },
     "execution_count": 34,
     "metadata": {},
     "output_type": "execute_result"
    }
   ],
   "source": [
    "example"
   ]
  },
  {
   "cell_type": "code",
   "execution_count": 35,
   "metadata": {},
   "outputs": [
    {
     "data": {
      "text/plain": [
       "array(['Canada'], dtype=object)"
      ]
     },
     "execution_count": 35,
     "metadata": {},
     "output_type": "execute_result"
    }
   ],
   "source": [
    "lr = LogisticRegression(random_state=123)\n",
    "lr.fit(X_train, y_train)\n",
    "lr.predict([example])  # hard prediction"
   ]
  },
  {
   "cell_type": "code",
   "execution_count": 36,
   "metadata": {},
   "outputs": [
    {
     "data": {
      "text/plain": [
       "array([[0.87849316, 0.12150684]])"
      ]
     },
     "execution_count": 36,
     "metadata": {},
     "output_type": "execute_result"
    }
   ],
   "source": [
    "lr.predict_proba([example])  # soft prediction"
   ]
  },
  {
   "cell_type": "markdown",
   "metadata": {
    "slideshow": {
     "slide_type": "slide"
    }
   },
   "source": [
    "- The output of `predict_proba` is the probability of each class. \n",
    "- In binary classification, we get probabilities associated with both classes (even though this information is redundant). \n",
    "- The first entry is the estimated probability of the first class and the second entry is the estimated probability of the second class from `model.classes_`. "
   ]
  },
  {
   "cell_type": "code",
   "execution_count": 37,
   "metadata": {},
   "outputs": [
    {
     "data": {
      "text/plain": [
       "array(['Canada', 'USA'], dtype=object)"
      ]
     },
     "execution_count": 37,
     "metadata": {},
     "output_type": "execute_result"
    }
   ],
   "source": [
    "lr.classes_"
   ]
  },
  {
   "cell_type": "markdown",
   "metadata": {
    "slideshow": {
     "slide_type": "slide"
    }
   },
   "source": [
    "- Because it's a probability, the sum of the entries for both classes should always sum to 1. \n",
    "- Since the probabilities for the two classes sum to 1, exactly one of the classes will have a score >=0.5, which is going to be our predicted class.  "
   ]
  },
  {
   "cell_type": "markdown",
   "metadata": {
    "slideshow": {
     "slide_type": "slide"
    }
   },
   "source": [
    "#### How does logistic regression calculate these probabilities? \n",
    "\n",
    "- The weighted sum $w_1x_1 + \\dots + w_dx_d + b$ gives us \"raw model output\".\n",
    "- For linear regression this would have been the prediction.\n",
    "- For logistic regression, you check the **sign** of this value.\n",
    "  - If positive (or 0), predict $+1$; if negative, predict $-1$.\n",
    "  - These are \"hard predictions\"."
   ]
  },
  {
   "cell_type": "markdown",
   "metadata": {
    "slideshow": {
     "slide_type": "slide"
    }
   },
   "source": [
    "- You can also have \"soft predictions\", aka **predicted probabilities**. \n",
    "  - To convert the raw model output into probabilities, instead of taking the sign, we apply the **sigmoid**."
   ]
  },
  {
   "cell_type": "markdown",
   "metadata": {
    "slideshow": {
     "slide_type": "slide"
    }
   },
   "source": [
    "#### The sigmoid function \n",
    "- The sigmoid function \"squashes\" the raw model output from any number to the range $[0,1]$ using the following formula, where $x$ is the raw model output. \n",
    "$$\\frac{1}{1+e^{-x}}$$\n",
    "- Then we can interpret the output as probabilities."
   ]
  },
  {
   "cell_type": "code",
   "execution_count": 38,
   "metadata": {
    "slideshow": {
     "slide_type": "slide"
    }
   },
   "outputs": [
    {
     "data": {
      "image/png": "[encoded data removed]",
      "text/plain": [
       "<Figure size 640x480 with 1 Axes>"
      ]
     },
     "metadata": {},
     "output_type": "display_data"
    }
   ],
   "source": [
    "sigmoid = lambda x: 1 / (1 + np.exp(-x))\n",
    "raw_model_output = np.linspace(-8, 8, 1000)\n",
    "plt.plot(raw_model_output, sigmoid(raw_model_output))\n",
    "plt.plot([0, 0], [0, 0.5], \"--k\")\n",
    "plt.plot([-8, 0], [0.5, 0.5], \"--k\")\n",
    "plt.xlabel(\"raw model output, $w^Tx$\")\n",
    "plt.ylabel(\"predicted probability\")\n",
    "plt.title(\"the sigmoid function\");"
   ]
  },
  {
   "cell_type": "markdown",
   "metadata": {
    "slideshow": {
     "slide_type": "slide"
    }
   },
   "source": [
    "- Recall our hard predictions that check the sign of $w^Tx$, or, in other words, whether or not it is $\\geq 0$.\n",
    "  - The threshold $w^Tx=0$ corresponds to $p=0.5$. \n",
    "  - In other words, if our predicted probability is $\\geq 0.5$ then our hard prediction is $+1$."
   ]
  },
  {
   "cell_type": "markdown",
   "metadata": {
    "slideshow": {
     "slide_type": "slide"
    }
   },
   "source": [
    "Let's get the probability score by calling sigmoid on the raw model output for our test example."
   ]
  },
  {
   "cell_type": "code",
   "execution_count": 39,
   "metadata": {},
   "outputs": [
    {
     "data": {
      "text/plain": [
       "array([0.12150684])"
      ]
     },
     "execution_count": 39,
     "metadata": {},
     "output_type": "execute_result"
    }
   ],
   "source": [
    "sigmoid(\n",
    "    np.dot(\n",
    "        example,\n",
    "        lr.coef_.reshape(\n",
    "            2,\n",
    "        ),\n",
    "    )\n",
    "    + lr.intercept_\n",
    ")"
   ]
  },
  {
   "cell_type": "markdown",
   "metadata": {},
   "source": [
    "This is the probability score of the positive class, which is USA. "
   ]
  },
  {
   "cell_type": "code",
   "execution_count": 40,
   "metadata": {},
   "outputs": [
    {
     "data": {
      "text/plain": [
       "array([[0.87849316, 0.12150684]])"
      ]
     },
     "execution_count": 40,
     "metadata": {},
     "output_type": "execute_result"
    }
   ],
   "source": [
    "lr.predict_proba([example])"
   ]
  },
  {
   "cell_type": "markdown",
   "metadata": {},
   "source": [
    "With `predict_proba`, we get the same probability score for USA!!"
   ]
  },
  {
   "cell_type": "markdown",
   "metadata": {
    "slideshow": {
     "slide_type": "slide"
    }
   },
   "source": [
    "- Let's visualize probability scores for some examples. "
   ]
  },
  {
   "cell_type": "code",
   "execution_count": 41,
   "metadata": {
    "slideshow": {
     "slide_type": "-"
    }
   },
   "outputs": [],
   "source": [
    "data_dict = {\n",
    "    \"y\": y_train[:12],\n",
    "    \"y_hat\": lr.predict(X_train[:12]).tolist(),\n",
    "    \"probabilities\": lr.predict_proba(X_train[:12]).tolist(),\n",
    "}"
   ]
  },
  {
   "cell_type": "code",
   "execution_count": 42,
   "metadata": {
    "slideshow": {
     "slide_type": "slide"
    }
   },
   "outputs": [
    {
     "data": {
      "text/html": [
       "<div>\n",
       "<style scoped>\n",
       "    .dataframe tbody tr th:only-of-type {\n",
       "        vertical-align: middle;\n",
       "    }\n",
       "\n",
       "    .dataframe tbody tr th {\n",
       "        vertical-align: top;\n",
       "    }\n",
       "\n",
       "    .dataframe thead th {\n",
       "        text-align: right;\n",
       "    }\n",
       "</style>\n",
       "<table border=\"1\" class=\"dataframe\">\n",
       "  <thead>\n",
       "    <tr style=\"text-align: right;\">\n",
       "      <th></th>\n",
       "      <th>y</th>\n",
       "      <th>y_hat</th>\n",
       "      <th>probabilities</th>\n",
       "    </tr>\n",
       "  </thead>\n",
       "  <tbody>\n",
       "    <tr>\n",
       "      <th>0</th>\n",
       "      <td>Canada</td>\n",
       "      <td>Canada</td>\n",
       "      <td>[0.7046136400143141, 0.2953863599856858]</td>\n",
       "    </tr>\n",
       "    <tr>\n",
       "      <th>1</th>\n",
       "      <td>Canada</td>\n",
       "      <td>Canada</td>\n",
       "      <td>[0.5630224174651548, 0.43697758253484525]</td>\n",
       "    </tr>\n",
       "    <tr>\n",
       "      <th>2</th>\n",
       "      <td>Canada</td>\n",
       "      <td>Canada</td>\n",
       "      <td>[0.8389756947416367, 0.1610243052583633]</td>\n",
       "    </tr>\n",
       "    <tr>\n",
       "      <th>3</th>\n",
       "      <td>Canada</td>\n",
       "      <td>Canada</td>\n",
       "      <td>[0.7964215270662817, 0.20357847293371834]</td>\n",
       "    </tr>\n",
       "    <tr>\n",
       "      <th>4</th>\n",
       "      <td>Canada</td>\n",
       "      <td>Canada</td>\n",
       "      <td>[0.9010852321946795, 0.09891476780532049]</td>\n",
       "    </tr>\n",
       "    <tr>\n",
       "      <th>5</th>\n",
       "      <td>Canada</td>\n",
       "      <td>Canada</td>\n",
       "      <td>[0.7752884548630534, 0.22471154513694652]</td>\n",
       "    </tr>\n",
       "    <tr>\n",
       "      <th>6</th>\n",
       "      <td>USA</td>\n",
       "      <td>USA</td>\n",
       "      <td>[0.030739733331869412, 0.9692602666681306]</td>\n",
       "    </tr>\n",
       "    <tr>\n",
       "      <th>7</th>\n",
       "      <td>Canada</td>\n",
       "      <td>Canada</td>\n",
       "      <td>[0.6880359361853483, 0.3119640638146517]</td>\n",
       "    </tr>\n",
       "    <tr>\n",
       "      <th>8</th>\n",
       "      <td>Canada</td>\n",
       "      <td>Canada</td>\n",
       "      <td>[0.7891381897690053, 0.21086181023099465]</td>\n",
       "    </tr>\n",
       "    <tr>\n",
       "      <th>9</th>\n",
       "      <td>USA</td>\n",
       "      <td>USA</td>\n",
       "      <td>[0.006546893270012566, 0.9934531067299874]</td>\n",
       "    </tr>\n",
       "    <tr>\n",
       "      <th>10</th>\n",
       "      <td>USA</td>\n",
       "      <td>USA</td>\n",
       "      <td>[0.27874871715903127, 0.7212512828409687]</td>\n",
       "    </tr>\n",
       "    <tr>\n",
       "      <th>11</th>\n",
       "      <td>Canada</td>\n",
       "      <td>Canada</td>\n",
       "      <td>[0.8388866943476289, 0.16111330565237114]</td>\n",
       "    </tr>\n",
       "  </tbody>\n",
       "</table>\n",
       "</div>"
      ],
      "text/plain": [
       "         y   y_hat                               probabilities\n",
       "0   Canada  Canada    [0.7046136400143141, 0.2953863599856858]\n",
       "1   Canada  Canada   [0.5630224174651548, 0.43697758253484525]\n",
       "2   Canada  Canada    [0.8389756947416367, 0.1610243052583633]\n",
       "3   Canada  Canada   [0.7964215270662817, 0.20357847293371834]\n",
       "4   Canada  Canada   [0.9010852321946795, 0.09891476780532049]\n",
       "5   Canada  Canada   [0.7752884548630534, 0.22471154513694652]\n",
       "6      USA     USA  [0.030739733331869412, 0.9692602666681306]\n",
       "7   Canada  Canada    [0.6880359361853483, 0.3119640638146517]\n",
       "8   Canada  Canada   [0.7891381897690053, 0.21086181023099465]\n",
       "9      USA     USA  [0.006546893270012566, 0.9934531067299874]\n",
       "10     USA     USA   [0.27874871715903127, 0.7212512828409687]\n",
       "11  Canada  Canada   [0.8388866943476289, 0.16111330565237114]"
      ]
     },
     "execution_count": 42,
     "metadata": {},
     "output_type": "execute_result"
    }
   ],
   "source": [
    "pd.DataFrame(data_dict)"
   ]
  },
  {
   "cell_type": "markdown",
   "metadata": {
    "slideshow": {
     "slide_type": "-"
    }
   },
   "source": [
    "The actual `y` and `y_hat` match in most of the cases but in some cases the model is more confident about the prediction than others. "
   ]
  },
  {
   "cell_type": "markdown",
   "metadata": {
    "slideshow": {
     "slide_type": "slide"
    }
   },
   "source": [
    "#### Least confident cases \n",
    "\n",
    "Let's examine some cases where the model is least confident about the prediction. "
   ]
  },
  {
   "cell_type": "code",
   "execution_count": 43,
   "metadata": {},
   "outputs": [
    {
     "data": {
      "text/plain": [
       "array([[ -79.7599,   43.6858],\n",
       "       [-123.078 ,   48.9854]])"
      ]
     },
     "execution_count": 43,
     "metadata": {},
     "output_type": "execute_result"
    }
   ],
   "source": [
    "least_confident_X = X_train[[127, 141]]\n",
    "least_confident_X"
   ]
  },
  {
   "cell_type": "code",
   "execution_count": 44,
   "metadata": {
    "slideshow": {
     "slide_type": "-"
    }
   },
   "outputs": [
    {
     "data": {
      "text/plain": [
       "array(['Canada', 'USA'], dtype=object)"
      ]
     },
     "execution_count": 44,
     "metadata": {},
     "output_type": "execute_result"
    }
   ],
   "source": [
    "least_confident_y = y_train[[127, 141]]\n",
    "least_confident_y"
   ]
  },
  {
   "cell_type": "code",
   "execution_count": 45,
   "metadata": {
    "slideshow": {
     "slide_type": "slide"
    }
   },
   "outputs": [
    {
     "data": {
      "text/html": [
       "<div>\n",
       "<style scoped>\n",
       "    .dataframe tbody tr th:only-of-type {\n",
       "        vertical-align: middle;\n",
       "    }\n",
       "\n",
       "    .dataframe tbody tr th {\n",
       "        vertical-align: top;\n",
       "    }\n",
       "\n",
       "    .dataframe thead th {\n",
       "        text-align: right;\n",
       "    }\n",
       "</style>\n",
       "<table border=\"1\" class=\"dataframe\">\n",
       "  <thead>\n",
       "    <tr style=\"text-align: right;\">\n",
       "      <th></th>\n",
       "      <th>y</th>\n",
       "      <th>y_hat</th>\n",
       "      <th>probability score (Canada)</th>\n",
       "      <th>probability score (USA)</th>\n",
       "    </tr>\n",
       "  </thead>\n",
       "  <tbody>\n",
       "    <tr>\n",
       "      <th>0</th>\n",
       "      <td>Canada</td>\n",
       "      <td>Canada</td>\n",
       "      <td>0.634397</td>\n",
       "      <td>0.365603</td>\n",
       "    </tr>\n",
       "    <tr>\n",
       "      <th>1</th>\n",
       "      <td>USA</td>\n",
       "      <td>Canada</td>\n",
       "      <td>0.635648</td>\n",
       "      <td>0.364352</td>\n",
       "    </tr>\n",
       "  </tbody>\n",
       "</table>\n",
       "</div>"
      ],
      "text/plain": [
       "        y   y_hat  probability score (Canada)  probability score (USA)\n",
       "0  Canada  Canada                    0.634397                 0.365603\n",
       "1     USA  Canada                    0.635648                 0.364352"
      ]
     },
     "execution_count": 45,
     "metadata": {},
     "output_type": "execute_result"
    }
   ],
   "source": [
    "probs = lr.predict_proba(least_confident_X)\n",
    "\n",
    "data_dict = {\n",
    "    \"y\": least_confident_y,\n",
    "    \"y_hat\": lr.predict(least_confident_X).tolist(),\n",
    "    \"probability score (Canada)\": probs[:, 0],\n",
    "    \"probability score (USA)\": probs[:, 1],\n",
    "}\n",
    "pd.DataFrame(data_dict)"
   ]
  },
  {
   "cell_type": "code",
   "execution_count": 46,
   "metadata": {
    "slideshow": {
     "slide_type": "slide"
    }
   },
   "outputs": [
    {
     "data": {
      "image/png": "[encoded data removed]",
      "text/plain": [
       "<Figure size 640x480 with 1 Axes>"
      ]
     },
     "metadata": {},
     "output_type": "display_data"
    }
   ],
   "source": [
    "mglearn.discrete_scatter(\n",
    "    least_confident_X[:, 0],\n",
    "    least_confident_X[:, 1],\n",
    "    least_confident_y,\n",
    "    markers=\"o\",\n",
    ")\n",
    "mglearn.plots.plot_2d_separator(lr, X_train, fill=True, eps=0.5, alpha=0.5)"
   ]
  },
  {
   "cell_type": "markdown",
   "metadata": {},
   "source": [
    "The points are close to the decision boundary which makes sense. "
   ]
  },
  {
   "cell_type": "markdown",
   "metadata": {
    "slideshow": {
     "slide_type": "slide"
    },
    "tags": []
   },
   "source": [
    "#### Most confident cases \n",
    "\n",
    "Let's examine some cases where the model is most confident about the prediction. "
   ]
  },
  {
   "cell_type": "code",
   "execution_count": 47,
   "metadata": {},
   "outputs": [
    {
     "data": {
      "text/plain": [
       "array([[-110.9748,   32.2229],\n",
       "       [ -67.9245,   47.1652]])"
      ]
     },
     "execution_count": 47,
     "metadata": {},
     "output_type": "execute_result"
    }
   ],
   "source": [
    "most_confident_X = X_train[[37, 4]]\n",
    "most_confident_X"
   ]
  },
  {
   "cell_type": "code",
   "execution_count": 48,
   "metadata": {},
   "outputs": [
    {
     "data": {
      "text/plain": [
       "array(['USA', 'Canada'], dtype=object)"
      ]
     },
     "execution_count": 48,
     "metadata": {},
     "output_type": "execute_result"
    }
   ],
   "source": [
    "most_confident_y = y_train[[37, 165]]\n",
    "most_confident_y"
   ]
  },
  {
   "cell_type": "code",
   "execution_count": 49,
   "metadata": {
    "slideshow": {
     "slide_type": "slide"
    }
   },
   "outputs": [
    {
     "data": {
      "text/html": [
       "<div>\n",
       "<style scoped>\n",
       "    .dataframe tbody tr th:only-of-type {\n",
       "        vertical-align: middle;\n",
       "    }\n",
       "\n",
       "    .dataframe tbody tr th {\n",
       "        vertical-align: top;\n",
       "    }\n",
       "\n",
       "    .dataframe thead th {\n",
       "        text-align: right;\n",
       "    }\n",
       "</style>\n",
       "<table border=\"1\" class=\"dataframe\">\n",
       "  <thead>\n",
       "    <tr style=\"text-align: right;\">\n",
       "      <th></th>\n",
       "      <th>y</th>\n",
       "      <th>y_hat</th>\n",
       "      <th>probability score (Canada)</th>\n",
       "      <th>probability score (USA)</th>\n",
       "    </tr>\n",
       "  </thead>\n",
       "  <tbody>\n",
       "    <tr>\n",
       "      <th>0</th>\n",
       "      <td>USA</td>\n",
       "      <td>USA</td>\n",
       "      <td>0.010027</td>\n",
       "      <td>0.989973</td>\n",
       "    </tr>\n",
       "    <tr>\n",
       "      <th>1</th>\n",
       "      <td>Canada</td>\n",
       "      <td>Canada</td>\n",
       "      <td>0.901085</td>\n",
       "      <td>0.098915</td>\n",
       "    </tr>\n",
       "  </tbody>\n",
       "</table>\n",
       "</div>"
      ],
      "text/plain": [
       "        y   y_hat  probability score (Canada)  probability score (USA)\n",
       "0     USA     USA                    0.010027                 0.989973\n",
       "1  Canada  Canada                    0.901085                 0.098915"
      ]
     },
     "execution_count": 49,
     "metadata": {},
     "output_type": "execute_result"
    }
   ],
   "source": [
    "probs = lr.predict_proba(most_confident_X)\n",
    "\n",
    "data_dict = {\n",
    "    \"y\": most_confident_y,\n",
    "    \"y_hat\": lr.predict(most_confident_X).tolist(),\n",
    "    \"probability score (Canada)\": probs[:, 0],\n",
    "    \"probability score (USA)\": probs[:, 1],\n",
    "}\n",
    "pd.DataFrame(data_dict)"
   ]
  },
  {
   "cell_type": "code",
   "execution_count": 50,
   "metadata": {},
   "outputs": [
    {
     "data": {
      "text/plain": [
       "array([[-110.9748,   32.2229],\n",
       "       [ -67.9245,   47.1652]])"
      ]
     },
     "execution_count": 50,
     "metadata": {},
     "output_type": "execute_result"
    }
   ],
   "source": [
    "most_confident_X"
   ]
  },
  {
   "cell_type": "code",
   "execution_count": 51,
   "metadata": {
    "slideshow": {
     "slide_type": "slide"
    }
   },
   "outputs": [
    {
     "data": {
      "image/png": "[encoded data removed]",
      "text/plain": [
       "<Figure size 640x480 with 1 Axes>"
      ]
     },
     "metadata": {},
     "output_type": "display_data"
    }
   ],
   "source": [
    "mglearn.discrete_scatter(\n",
    "    most_confident_X[:, 0],\n",
    "    most_confident_X[:, 1],\n",
    "    most_confident_y,\n",
    "    markers=\"o\",\n",
    ")\n",
    "mglearn.plots.plot_2d_separator(lr, X_train, fill=True, eps=0.5, alpha=0.5)"
   ]
  },
  {
   "cell_type": "markdown",
   "metadata": {},
   "source": [
    "The points are far away from the decision boundary which makes sense. "
   ]
  },
  {
   "cell_type": "markdown",
   "metadata": {
    "slideshow": {
     "slide_type": "slide"
    }
   },
   "source": [
    "#### Over confident cases\n",
    "\n",
    "Let's examine some cases where the model is confident about the prediction but the prediction is wrong. "
   ]
  },
  {
   "cell_type": "code",
   "execution_count": 52,
   "metadata": {},
   "outputs": [
    {
     "data": {
      "text/plain": [
       "array([[-129.9912,   55.9383],\n",
       "       [-134.4197,   58.3019]])"
      ]
     },
     "execution_count": 52,
     "metadata": {},
     "output_type": "execute_result"
    }
   ],
   "source": [
    "over_confident_X = X_train[[25, 98]]\n",
    "over_confident_X"
   ]
  },
  {
   "cell_type": "code",
   "execution_count": 53,
   "metadata": {},
   "outputs": [
    {
     "data": {
      "text/plain": [
       "array(['Canada', 'USA'], dtype=object)"
      ]
     },
     "execution_count": 53,
     "metadata": {},
     "output_type": "execute_result"
    }
   ],
   "source": [
    "over_confident_y = y_train[[25, 98]]\n",
    "over_confident_y"
   ]
  },
  {
   "cell_type": "code",
   "execution_count": 54,
   "metadata": {
    "slideshow": {
     "slide_type": "slide"
    }
   },
   "outputs": [
    {
     "data": {
      "text/html": [
       "<div>\n",
       "<style scoped>\n",
       "    .dataframe tbody tr th:only-of-type {\n",
       "        vertical-align: middle;\n",
       "    }\n",
       "\n",
       "    .dataframe tbody tr th {\n",
       "        vertical-align: top;\n",
       "    }\n",
       "\n",
       "    .dataframe thead th {\n",
       "        text-align: right;\n",
       "    }\n",
       "</style>\n",
       "<table border=\"1\" class=\"dataframe\">\n",
       "  <thead>\n",
       "    <tr style=\"text-align: right;\">\n",
       "      <th></th>\n",
       "      <th>y</th>\n",
       "      <th>y_hat</th>\n",
       "      <th>probability score (Canada)</th>\n",
       "      <th>probability score (USA)</th>\n",
       "    </tr>\n",
       "  </thead>\n",
       "  <tbody>\n",
       "    <tr>\n",
       "      <th>0</th>\n",
       "      <td>Canada</td>\n",
       "      <td>Canada</td>\n",
       "      <td>0.931786</td>\n",
       "      <td>0.068214</td>\n",
       "    </tr>\n",
       "    <tr>\n",
       "      <th>1</th>\n",
       "      <td>USA</td>\n",
       "      <td>Canada</td>\n",
       "      <td>0.961898</td>\n",
       "      <td>0.038102</td>\n",
       "    </tr>\n",
       "  </tbody>\n",
       "</table>\n",
       "</div>"
      ],
      "text/plain": [
       "        y   y_hat  probability score (Canada)  probability score (USA)\n",
       "0  Canada  Canada                    0.931786                 0.068214\n",
       "1     USA  Canada                    0.961898                 0.038102"
      ]
     },
     "execution_count": 54,
     "metadata": {},
     "output_type": "execute_result"
    }
   ],
   "source": [
    "probs = lr.predict_proba(over_confident_X)\n",
    "\n",
    "data_dict = {\n",
    "    \"y\": over_confident_y,\n",
    "    \"y_hat\": lr.predict(over_confident_X).tolist(),\n",
    "    \"probability score (Canada)\": probs[:, 0],\n",
    "    \"probability score (USA)\": probs[:, 1],\n",
    "}\n",
    "pd.DataFrame(data_dict)"
   ]
  },
  {
   "cell_type": "code",
   "execution_count": 55,
   "metadata": {
    "slideshow": {
     "slide_type": "slide"
    }
   },
   "outputs": [
    {
     "data": {
      "image/png": "[encoded data removed]",
      "text/plain": [
       "<Figure size 640x480 with 1 Axes>"
      ]
     },
     "metadata": {},
     "output_type": "display_data"
    }
   ],
   "source": [
    "mglearn.discrete_scatter(\n",
    "    over_confident_X[:, 0],\n",
    "    over_confident_X[:, 1],\n",
    "    over_confident_y,\n",
    "    markers=\"o\",\n",
    ")\n",
    "mglearn.plots.plot_2d_separator(lr, X_train, fill=True, eps=0.5, alpha=0.5)"
   ]
  },
  {
   "cell_type": "markdown",
   "metadata": {},
   "source": [
    "- The cities are far away from the decision boundary. So the model is pretty confident about the prediction. \n",
    "- But the cities are likely to be from Alaska and our linear model is not able to capture that this part belong to the USA and not Canada."
   ]
  },
  {
   "cell_type": "markdown",
   "metadata": {
    "slideshow": {
     "slide_type": "slide"
    }
   },
   "source": [
    "Below we are using colour to represent prediction probabilities. If you are closer to the border, the model is less confident whereas the model is more confident about the mainland cities, which makes sense.  "
   ]
  },
  {
   "cell_type": "code",
   "execution_count": 56,
   "metadata": {
    "slideshow": {
     "slide_type": "slide"
    }
   },
   "outputs": [
    {
     "data": {
      "image/png": "[encoded data removed]",
      "text/plain": [
       "<Figure size 1800x500 with 3 Axes>"
      ]
     },
     "metadata": {},
     "output_type": "display_data"
    }
   ],
   "source": [
    "fig, axes = plt.subplots(1, 2, figsize=(18, 5))\n",
    "from matplotlib.colors import ListedColormap\n",
    "\n",
    "for ax in axes:\n",
    "    mglearn.discrete_scatter(\n",
    "        X_train[:, 0], X_train[:, 1], y_train, markers=\"o\", ax=ax\n",
    "    )\n",
    "    ax.set_xlabel(\"longitude\")\n",
    "    ax.set_ylabel(\"latitude\")\n",
    "\n",
    "axes[0].legend([\"Train class 0\", \"Train class 1\"], ncol=2, loc=(0.1, 1.1))\n",
    "\n",
    "mglearn.plots.plot_2d_separator(\n",
    "    lr, X_train, fill=True, eps=0.5, ax=axes[0], alpha=0.5\n",
    ")\n",
    "mglearn.plots.plot_2d_separator(\n",
    "    lr, X_train, fill=False, eps=0.5, ax=axes[1], alpha=0.5\n",
    ")\n",
    "scores_image = mglearn.tools.plot_2d_scores(\n",
    "    lr, X_train, eps=0.5, ax=axes[1], alpha=0.5, cm=plt.cm.coolwarm\n",
    ")\n",
    "cbar = plt.colorbar(scores_image, ax=axes.tolist())"
   ]
  },
  {
   "cell_type": "markdown",
   "metadata": {
    "slideshow": {
     "slide_type": "slide"
    }
   },
   "source": [
    "Sometimes a complex model that is overfitted, tends to make more confident predictions, even if they are wrong, whereas a simpler model tends to make predictions with more uncertainty. "
   ]
  },
  {
   "cell_type": "markdown",
   "metadata": {
    "slideshow": {
     "slide_type": "slide"
    }
   },
   "source": [
    "To summarize, \n",
    "- With hard predictions, we only know the class. \n",
    "- With probability scores we know how confident the model is with certain predictions, which can be useful in understanding the model better. "
   ]
  },
  {
   "cell_type": "markdown",
   "metadata": {
    "slideshow": {
     "slide_type": "slide"
    }
   },
   "source": [
    "## ❓❓ Questions for you"
   ]
  },
  {
   "cell_type": "markdown",
   "metadata": {
    "slideshow": {
     "slide_type": "slide"
    }
   },
   "source": [
    "### (iClicker) Exercise 7.2 \n",
    "\n",
    "**iClicker cloud join link: https://join.iclicker.com/RITY**\n",
    "\n",
    "**Select all of the following statements which are TRUE.**\n",
    "\n",
    "- (A) Increasing logistic regression's `C` hyperparameter increases model complexity.\n",
    "- (B) The raw output score can be used to calculate the probability score for a given prediction. \n",
    "- (C) For linear classifier trained on $d$ features, the decision boundary is a $d-1$-dimensional hyperparlane.  \n",
    "- (D) A linear model is likely to be uncertain about the data points close to the decision boundary. "
   ]
  },
  {
   "attachments": {},
   "cell_type": "markdown",
   "metadata": {
    "slideshow": {
     "slide_type": "slide"
    }
   },
   "source": [
    "### (iClicker) Exercise 7.3\n",
    "\n",
    "**iClicker cloud join link: https://join.iclicker.com/RITY**\n",
    "\n",
    "**Select all of the following statements which are TRUE.**\n",
    "\n",
    "- (A) More overlapping in the ground truth feature for the two classes results in a flatter curve\n",
    "- (B) If the curve is flatter, the weight (coefficient) associated to the feature is larger\n",
    "- (C) P(positive) + P(negative) = 1\n",
    "- (D) The magnitude of coefficients in logistic regression can be interpreted even if the features are not scaled\n",
    "\n",
    "<div>\n",
    "<img src=\"../img/logRegStudyHours.png\" width=\"500\"/>\n",
    "</div>"
   ]
  },
  {
   "cell_type": "markdown",
   "metadata": {
    "slideshow": {
     "slide_type": "slide"
    }
   },
   "source": [
    "<br><br><br><br>"
   ]
  },
  {
   "cell_type": "markdown",
   "metadata": {
    "slideshow": {
     "slide_type": "slide"
    }
   },
   "source": [
    "### Linear SVM \n",
    "\n",
    "- We have seen non-linear SVM with RBF kernel before. This is the default SVC model in `sklearn` because it tends to work better in many cases. \n",
    "- There is also a linear SVM. You can pass `kernel=\"linear\"` to create a linear SVM. "
   ]
  },
  {
   "cell_type": "code",
   "execution_count": 57,
   "metadata": {
    "slideshow": {
     "slide_type": "slide"
    }
   },
   "outputs": [],
   "source": [
    "cities_df = pd.read_csv(DATA_DIR + \"canada_usa_cities.csv\")\n",
    "train_df, test_df = train_test_split(cities_df, test_size=0.2, random_state=123)\n",
    "X_train, y_train = train_df.drop(columns=[\"country\"]).values, train_df[\"country\"].values\n",
    "X_test, y_test = test_df.drop(columns=[\"country\"]).values, test_df[\"country\"].values"
   ]
  },
  {
   "cell_type": "code",
   "execution_count": 58,
   "metadata": {
    "slideshow": {
     "slide_type": "slide"
    }
   },
   "outputs": [
    {
     "data": {
      "image/png": "[encoded data removed]",
      "text/plain": [
       "<Figure size 1800x500 with 2 Axes>"
      ]
     },
     "metadata": {},
     "output_type": "display_data"
    }
   ],
   "source": [
    "fig, axes = plt.subplots(1, 2, figsize=(18, 5))\n",
    "from matplotlib.colors import ListedColormap\n",
    "\n",
    "for (model, ax) in zip([SVC(gamma=0.01), SVC(kernel=\"linear\")], axes):\n",
    "    mglearn.discrete_scatter(\n",
    "        X_train[:, 0], X_train[:, 1], y_train, markers=\"o\", ax=ax\n",
    "    )\n",
    "    model.fit(X_train, y_train)\n",
    "    ax.set_xlabel(\"longitude\")\n",
    "    ax.set_ylabel(\"latitude\")\n",
    "    mglearn.plots.plot_2d_separator(\n",
    "        model, X_train, fill=True, eps=0.5, ax=ax, alpha=0.5\n",
    "    )\n",
    "\n",
    "axes[0].set_title(\"SVM RBF\")\n",
    "axes[1].set_title(\"Linear SVM\");"
   ]
  },
  {
   "cell_type": "markdown",
   "metadata": {
    "slideshow": {
     "slide_type": "slide"
    }
   },
   "source": [
    "- `predict` method of linear SVM and logistic regression works the same way. \n",
    "- We can get `coef_` associated with the features and `intercept_` using a Linear SVM model. "
   ]
  },
  {
   "cell_type": "code",
   "execution_count": 59,
   "metadata": {
    "slideshow": {
     "slide_type": "slide"
    }
   },
   "outputs": [
    {
     "name": "stdout",
     "output_type": "stream",
     "text": [
      "Model weights: [[-0.0195598  -0.23640124]]\n",
      "Model intercept: [8.22811601]\n"
     ]
    }
   ],
   "source": [
    "linear_svc = SVC(kernel=\"linear\")\n",
    "linear_svc.fit(X_train, y_train)\n",
    "print(\"Model weights: %s\" % (linear_svc.coef_))\n",
    "print(\"Model intercept: %s\" % (linear_svc.intercept_))"
   ]
  },
  {
   "cell_type": "code",
   "execution_count": 60,
   "metadata": {},
   "outputs": [
    {
     "name": "stdout",
     "output_type": "stream",
     "text": [
      "Model weights: [[-0.04108378 -0.33683087]]\n",
      "Model intercept: [10.886759]\n"
     ]
    }
   ],
   "source": [
    "lr = LogisticRegression()\n",
    "lr.fit(X_train, y_train)\n",
    "print(\"Model weights: %s\" % (lr.coef_))\n",
    "print(\"Model intercept: %s\" % (lr.intercept_))"
   ]
  },
  {
   "cell_type": "markdown",
   "metadata": {},
   "source": [
    "- Note that the coefficients and intercept are slightly different for logistic regression. \n",
    "- This is because the `fit` for linear SVM and logistic regression are different. "
   ]
  },
  {
   "cell_type": "markdown",
   "metadata": {},
   "source": [
    "<br><br><br><br>"
   ]
  },
  {
   "cell_type": "markdown",
   "metadata": {
    "slideshow": {
     "slide_type": "skip"
    }
   },
   "source": [
    "<br><br><br><br>"
   ]
  },
  {
   "cell_type": "markdown",
   "metadata": {
    "slideshow": {
     "slide_type": "slide"
    }
   },
   "source": [
    "## Summary of linear models \n",
    "\n",
    "- Linear regression is a linear model for regression whereas logistic regression is a linear model for classification. \n",
    "- Both these models learn one coefficient per feature, plus an intercept. "
   ]
  },
  {
   "cell_type": "markdown",
   "metadata": {
    "slideshow": {
     "slide_type": "skip"
    }
   },
   "source": [
    "### Main hyperparameters \n",
    "- The main hyperparameter is the \"regularization\" hyperparameter controlling the fundamental tradeoff. \n",
    "    - Logistic Regression: `C`\n",
    "    - Linear SVM: `C` \n",
    "    - Ridge: `alpha`"
   ]
  },
  {
   "cell_type": "markdown",
   "metadata": {
    "slideshow": {
     "slide_type": "slide"
    }
   },
   "source": [
    "### Interpretation of coefficients in linear models \n",
    "- the $j$th coefficient tells us how feature $j$ affects the prediction\n",
    "- if $w_j > 0$ then increasing $x_{ij}$ moves us toward predicting $+1$\n",
    "- if $w_j < 0$ then increasing $x_{ij}$ moves us toward prediction $-1$\n",
    "- if $w_j == 0$ then the feature is not used in making a prediction\n",
    "- Scaling is necessary to compare coefficients"
   ]
  },
  {
   "cell_type": "markdown",
   "metadata": {
    "slideshow": {
     "slide_type": "slide"
    }
   },
   "source": [
    "### Strengths of linear models \n",
    "\n",
    "- Fast to train and predict\n",
    "- Scale to large datasets and work well with sparse data \n",
    "- Relatively easy to understand and interpret the predictions\n",
    "- Perform well when there is a large number of features "
   ]
  },
  {
   "cell_type": "markdown",
   "metadata": {
    "slideshow": {
     "slide_type": "slide"
    }
   },
   "source": [
    "### Limitations of linear models \n",
    "\n",
    "- Is your data \"linearly separable\"? Can you draw a hyperplane between these datapoints that separates them with 0 error. \n",
    "    - If the training examples can be separated by a linear decision rule, they are **linearly separable**.\n"
   ]
  },
  {
   "cell_type": "markdown",
   "metadata": {
    "slideshow": {
     "slide_type": "slide"
    }
   },
   "source": [
    "\n",
    "A few questions you might be thinking about\n",
    "- How often the real-life data is linearly separable?\n",
    "- Is the following XOR function linearly separable?  \n",
    "\n",
    "| $$x_1$$ | $$x_2$$ | target|\n",
    "|---------|---------|---------|\n",
    "| 0 | 0  | 0|\n",
    "| 0 | 1  | 1|\n",
    "| 1 | 0  | 1|\n",
    "| 1 | 1  | 0|    \n",
    "\n",
    "- Are linear classifiers very limiting because of this?     "
   ]
  }
 ],
 "metadata": {
  "celltoolbar": "Slideshow",
  "kernelspec": {
   "display_name": "Python [conda env:cpsc330]",
   "language": "python",
   "name": "conda-env-cpsc330-py"
  },
  "language_info": {
   "codemirror_mode": {
    "name": "ipython",
    "version": 3
   },
   "file_extension": ".py",
   "mimetype": "text/x-python",
   "name": "python",
   "nbconvert_exporter": "python",
   "pygments_lexer": "ipython3",
   "version": "3.13.5"
  }
 },
 "nbformat": 4,
 "nbformat_minor": 4
}
